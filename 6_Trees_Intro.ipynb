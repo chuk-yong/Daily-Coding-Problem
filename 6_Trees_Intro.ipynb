{
  "nbformat": 4,
  "nbformat_minor": 0,
  "metadata": {
    "colab": {
      "name": "6-Trees-Intro.ipynb",
      "provenance": [],
      "authorship_tag": "ABX9TyMkUDWT0B/OOqV9Hg0qGaU+",
      "include_colab_link": true
    },
    "kernelspec": {
      "name": "python3",
      "display_name": "Python 3"
    },
    "language_info": {
      "name": "python"
    }
  },
  "cells": [
    {
      "cell_type": "markdown",
      "metadata": {
        "id": "view-in-github",
        "colab_type": "text"
      },
      "source": [
        "<a href=\"https://colab.research.google.com/github/chuk-yong/Daily-Coding-Problem/blob/main/6_Trees_Intro.ipynb\" target=\"_parent\"><img src=\"https://colab.research.google.com/assets/colab-badge.svg\" alt=\"Open In Colab\"/></a>"
      ]
    },
    {
      "cell_type": "markdown",
      "source": [
        "## Introduction to Binary Trees\n",
        "Binary tree is one that has two child nodes or less.  \n",
        "\n",
        "## Traversing Binary Tree\n",
        ">in-order: left-parent-right\n",
        "\n",
        ">pre-order: parent-left-right\n",
        "\n",
        ">post-order: left-right-parent\n",
        "\n",
        "Given a tree:\n",
        "\n",
        "                      7\n",
        "                    /.  \\\n",
        "                  10.    5\n",
        "                 /. \\.  /. \\\n",
        "                4.  40 -1\n",
        "\n",
        "in-order: [4, 10, 40, 7, -1, 5]\n",
        "\n",
        "pre-order: [7, 10, 4, 40, 5, -1]\n",
        "\n",
        "post-order: [4, 40, 10, -1, 5, 7]\n",
        "\n"
      ],
      "metadata": {
        "id": "waXcAysq4mc9"
      }
    },
    {
      "cell_type": "markdown",
      "source": [
        "## Implementation\n",
        "1. Create a node class, it is a double-linked list\n",
        "2. A traversal method.  In it, you recursively call node.left follow by node.right.  The print statement's position depends on the type of traversal\n",
        "\n"
      ],
      "metadata": {
        "id": "2MFZHE7B6zDZ"
      }
    },
    {
      "cell_type": "code",
      "source": [
        "class Node:\n",
        "  def __init__(self, value, left = None, right = None):\n",
        "    self.value = value\n",
        "    self.left = left\n",
        "    self.right = right\n",
        "  \n",
        "class BinaryTree:\n",
        "  def __init__(self, value):\n",
        "    self.root = Node(value)\n",
        "\n",
        "  def inOrder(self): # A little redundant but saves the user from entering inOder(tree.root)\n",
        "    if self.root:\n",
        "      result = self._inOrder(self.root)\n",
        "      return result\n",
        "    else:\n",
        "      print(\"Tree not found!\")\n",
        "\n",
        "  def _inOrder(self, node, result=[]):\n",
        "    if node:\n",
        "      self._inOrder(node.left, result)\n",
        "      result.append(node.value)\n",
        "      self._inOrder(node.right, result)\n",
        "    return result\n",
        "\n",
        "  def preOrder(self):\n",
        "    if self.root:\n",
        "      result = self._preOrder(self.root)\n",
        "      return result\n",
        "    else:\n",
        "      print(\"Tree not found!\")\n",
        "\n",
        "  def _preOrder(self, node, result=[]):\n",
        "    if node:\n",
        "      result.append(node.value)\n",
        "      self._preOrder(node.left, result)\n",
        "      self._preOrder(node.right, result)\n",
        "    return result\n",
        "\n",
        "  def postOrder(self, node, result=[]): # Unlike the previous 2, need to pass in tree.root\n",
        "    if node:\n",
        "      self.postOrder(node.left, result)\n",
        "      self.postOrder(node.right, result)\n",
        "      result.append(node.value)\n",
        "    return result\n",
        "\n",
        "\n",
        "\n",
        "\n",
        "\n"
      ],
      "metadata": {
        "id": "7nJVXmEO746B"
      },
      "execution_count": 15,
      "outputs": []
    },
    {
      "cell_type": "code",
      "source": [
        "tree = BinaryTree(7)\n",
        "tree.root.left = Node(10)\n",
        "tree.root.left.left = Node(4)\n",
        "tree.root.left.right = Node(40)\n",
        "tree.root.right = Node(5)\n",
        "tree.root.right.left = Node(-1)\n",
        "\n"
      ],
      "metadata": {
        "id": "JxWYcrENAW8l"
      },
      "execution_count": 16,
      "outputs": []
    },
    {
      "cell_type": "code",
      "source": [
        "print(tree.inOrder())"
      ],
      "metadata": {
        "colab": {
          "base_uri": "https://localhost:8080/"
        },
        "id": "tVrVdQG9CQRC",
        "outputId": "1aa7e529-692e-426e-cd15-69f0c5527beb"
      },
      "execution_count": 17,
      "outputs": [
        {
          "output_type": "stream",
          "name": "stdout",
          "text": [
            "[4, 10, 40, 7, -1, 5]\n"
          ]
        }
      ]
    },
    {
      "cell_type": "code",
      "source": [
        "print(tree.preOrder())"
      ],
      "metadata": {
        "colab": {
          "base_uri": "https://localhost:8080/"
        },
        "id": "PUy6fSTLiuzl",
        "outputId": "bc3f1979-fa4c-4bdd-8378-72ef95830413"
      },
      "execution_count": 18,
      "outputs": [
        {
          "output_type": "stream",
          "name": "stdout",
          "text": [
            "[7, 10, 4, 40, 5, -1]\n"
          ]
        }
      ]
    },
    {
      "cell_type": "code",
      "source": [
        "print(tree.postOrder(tree.root))"
      ],
      "metadata": {
        "colab": {
          "base_uri": "https://localhost:8080/"
        },
        "id": "y7Ev6Lmnjdg0",
        "outputId": "c60e10f9-e74d-411b-ee99-82a63af934f5"
      },
      "execution_count": 19,
      "outputs": [
        {
          "output_type": "stream",
          "name": "stdout",
          "text": [
            "[4, 40, 10, -1, 5, 7]\n"
          ]
        }
      ]
    }
  ]
}