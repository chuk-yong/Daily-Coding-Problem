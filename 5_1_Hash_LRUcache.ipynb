{
  "nbformat": 4,
  "nbformat_minor": 0,
  "metadata": {
    "colab": {
      "name": "5-1_Hash-LRUcache.ipynb",
      "provenance": [],
      "authorship_tag": "ABX9TyNKBSBXnJpUKHWvXC66b8CQ",
      "include_colab_link": true
    },
    "kernelspec": {
      "name": "python3",
      "display_name": "Python 3"
    },
    "language_info": {
      "name": "python"
    }
  },
  "cells": [
    {
      "cell_type": "markdown",
      "metadata": {
        "id": "view-in-github",
        "colab_type": "text"
      },
      "source": [
        "<a href=\"https://colab.research.google.com/github/chuk-yong/Daily-Coding-Problem/blob/main/5_1_Hash_LRUcache.ipynb\" target=\"_parent\"><img src=\"https://colab.research.google.com/assets/colab-badge.svg\" alt=\"Open In Colab\"/></a>"
      ]
    },
    {
      "cell_type": "markdown",
      "source": [
        "## Implement LRU cache\n",
        "Implement LRU (Least Recently Used) cache.  The cache should be able to be initialised with cache size n, and provide the following methods:\n",
        "* set(key, value): set key to value.  If there are already n items in the cache and we are adding a new item, also remove the least recently used item.\n",
        "* get(key): get the value at k.  If no such key exists, return null.\n",
        "\n",
        "Each operation should reun in $O(n)$ time."
      ],
      "metadata": {
        "id": "aR7qOzsD-vGS"
      }
    },
    {
      "cell_type": "markdown",
      "source": [
        "## Solution\n",
        "\n",
        "LRUcahce is a double-linked list.  The left most represents the least used.  When the list is up to the max capacity set, it would be removed.  The head would be moved to the next item.  The new item would be added to the right most of the list.\n",
        "\n",
        "get(): when an item is being retrieved, we have to take it out of the list and put it to the right most to inidicate that it was recently used.\n",
        "\n",
        "The solution from the book creates a double-linked list.  I will do one with OrderedDict."
      ],
      "metadata": {
        "id": "tOdA2xdj_Yqw"
      }
    },
    {
      "cell_type": "code",
      "source": [
        "from collections import OrderedDict\n",
        "\n",
        "class LRUcache:\n",
        "  def __init__(self, maxsize=256):\n",
        "    self.maxsize = maxsize\n",
        "    self.cache = OrderedDict()\n",
        "\n",
        "  def get(self,key): \n",
        "    if self.cache[key]:\n",
        "      self.cache.move_to_end(key) # using the build in method.  Else, remove the item and add it back again\n",
        "      return self.cache[key]\n",
        "    else:\n",
        "      return None\n",
        "\n",
        "  def set(self, key, value):\n",
        "    self.cache[key] = value # automatically adds to end/right of list\n",
        "    if len(self.cache) > self.maxsize:\n",
        "      self.cache.popitem(last=False) #by default popitem removes the rightmost\n",
        "    \n",
        "\n",
        "\n",
        "\n",
        "\n"
      ],
      "metadata": {
        "id": "UXdfM4G8A1_S"
      },
      "execution_count": 14,
      "outputs": []
    },
    {
      "cell_type": "code",
      "source": [
        "q = LRUcache(maxsize=3)\n",
        "q.set('One', 1)\n",
        "q.set('Two', 2)\n",
        "q.set('Three',3)\n",
        "print(q.cache)"
      ],
      "metadata": {
        "colab": {
          "base_uri": "https://localhost:8080/"
        },
        "id": "nzSN7JqEJ_Rp",
        "outputId": "2b7e3ad8-53f4-4526-d4f7-ba87883739b4"
      },
      "execution_count": 15,
      "outputs": [
        {
          "output_type": "stream",
          "name": "stdout",
          "text": [
            "OrderedDict([('One', 1), ('Two', 2), ('Three', 3)])\n"
          ]
        }
      ]
    },
    {
      "cell_type": "code",
      "source": [
        "q.set('Four',4)\n",
        "print(len(q.cache))\n",
        "print(q.cache)\n"
      ],
      "metadata": {
        "colab": {
          "base_uri": "https://localhost:8080/"
        },
        "id": "2MqRwn1_Kmca",
        "outputId": "a231e732-a437-40c2-c6f5-0f183e9ce0e4"
      },
      "execution_count": 16,
      "outputs": [
        {
          "output_type": "stream",
          "name": "stdout",
          "text": [
            "3\n",
            "OrderedDict([('Two', 2), ('Three', 3), ('Four', 4)])\n"
          ]
        }
      ]
    },
    {
      "cell_type": "code",
      "source": [
        "q.get('Two')\n",
        "print(q.cache)"
      ],
      "metadata": {
        "colab": {
          "base_uri": "https://localhost:8080/"
        },
        "id": "mmPpx6yALpa3",
        "outputId": "6a477a7b-ea7f-48b7-841e-ed42914c4d90"
      },
      "execution_count": 17,
      "outputs": [
        {
          "output_type": "stream",
          "name": "stdout",
          "text": [
            "OrderedDict([('Three', 3), ('Four', 4), ('Two', 2)])\n"
          ]
        }
      ]
    }
  ]
}