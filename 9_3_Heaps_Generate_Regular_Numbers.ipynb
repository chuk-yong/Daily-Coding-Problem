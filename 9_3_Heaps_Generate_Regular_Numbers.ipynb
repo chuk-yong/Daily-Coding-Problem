{
  "nbformat": 4,
  "nbformat_minor": 0,
  "metadata": {
    "colab": {
      "name": "9-3_Heaps-Generate-Regular-Numbers.ipynb",
      "provenance": [],
      "authorship_tag": "ABX9TyMjfCDrkp+yfyZuqNwRFdHF",
      "include_colab_link": true
    },
    "kernelspec": {
      "name": "python3",
      "display_name": "Python 3"
    },
    "language_info": {
      "name": "python"
    }
  },
  "cells": [
    {
      "cell_type": "markdown",
      "metadata": {
        "id": "view-in-github",
        "colab_type": "text"
      },
      "source": [
        "<a href=\"https://colab.research.google.com/github/chuk-yong/Daily-Coding-Problem/blob/main/9_3_Heaps_Generate_Regular_Numbers.ipynb\" target=\"_parent\"><img src=\"https://colab.research.google.com/assets/colab-badge.svg\" alt=\"Open In Colab\"/></a>"
      ]
    },
    {
      "cell_type": "markdown",
      "source": [
        "## Generate Regular Numbers\n",
        "\n",
        "A regular number in mathematics is defined as one which evenly divides some power of 60.  Evidently, we can say that a regular number is one whose only prime divisors are 2,3 and 5\n",
        "\n",
        "Also $60^2 = 3600 = 48 x 75$ 48 and 75 are divisors of power of 60.\n",
        "\n",
        "The number N could be: $N = 2^i*3^j*5^k$\n",
        "\n",
        "For any regular number of x, we can generate additional numbers $2x, 3x, 5x$\n",
        "\n",
        "For each of the generated number we can further multiply it by $2x, 3x, 5x$\n",
        "\n",
        "Using a heapq we can generate the starting numbers, generate more multiples until we reach the desired n solutions.\n",
        "\n",
        "Note that 2*3 and 3*2 produces 6.  So remember the last number and make sure we don't use the same number again by going to the next larger nunber.\n",
        "\n"
      ],
      "metadata": {
        "id": "38zlLejw-KA9"
      }
    },
    {
      "cell_type": "code",
      "source": [
        "# Brute force\n",
        "def regular_numbers(n):\n",
        "  twos = [2**i for i in range(n)]\n",
        "  threes = [3**i for i in range(n)]\n",
        "  fives = [5**i for i in range(n)]\n",
        "\n",
        "  solution = set() # so we can have unique values\n",
        "  for two in twos:\n",
        "    for three in threes:\n",
        "      for five in fives:\n",
        "        solution.add(two*three*five)\n",
        "  \n",
        "  return sorted(solution)[:n]"
      ],
      "metadata": {
        "id": "y3pKfh1S_7JL"
      },
      "execution_count": null,
      "outputs": []
    },
    {
      "cell_type": "code",
      "source": [
        "# using heapq\n",
        "import heapq\n",
        "\n",
        "def regular_numbers(n):\n",
        "  solution =[1]\n",
        "  last = 0\n",
        "  count = 0\n",
        "\n",
        "  while count < n:\n",
        "    x = heapq.heappop(solution)\n",
        "    if x > last:\n",
        "      yield x\n",
        "      last = x\n",
        "      count += 1\n",
        "      heapq.heappush(solution, 2**x)\n",
        "      heapq.heappush(solution, 3**x)\n",
        "      heapq.heappush(solution, 5**x)"
      ],
      "metadata": {
        "id": "tAqrYsBYEsch"
      },
      "execution_count": null,
      "outputs": []
    }
  ]
}