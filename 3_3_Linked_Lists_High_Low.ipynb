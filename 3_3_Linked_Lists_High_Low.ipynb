{
  "nbformat": 4,
  "nbformat_minor": 0,
  "metadata": {
    "colab": {
      "name": "3-3_Linked-Lists-High-Low.ipynb",
      "provenance": [],
      "authorship_tag": "ABX9TyOnWxZSYWvUI7PIQAJ4cZeD",
      "include_colab_link": true
    },
    "kernelspec": {
      "name": "python3",
      "display_name": "Python 3"
    },
    "language_info": {
      "name": "python"
    }
  },
  "cells": [
    {
      "cell_type": "markdown",
      "metadata": {
        "id": "view-in-github",
        "colab_type": "text"
      },
      "source": [
        "<a href=\"https://colab.research.google.com/github/chuk-yong/Daily-Coding-Problem/blob/main/3_3_Linked_Lists_High_Low.ipynb\" target=\"_parent\"><img src=\"https://colab.research.google.com/assets/colab-badge.svg\" alt=\"Open In Colab\"/></a>"
      ]
    },
    {
      "cell_type": "markdown",
      "source": [
        "## Rearrange a linked linked list to alternate high-low\n",
        "\n",
        "Given a linked list, arrange the node values such that they appear in alternating\n",
        "* low-high-low-high\n",
        "\n",
        "For example given:\n",
        "* 1-2-3-4-5\n",
        "\n",
        "You should return:\n",
        "* 1-3-2-5-4"
      ],
      "metadata": {
        "id": "ze6nVugMZ3Y-"
      }
    },
    {
      "cell_type": "markdown",
      "source": [
        "1st try is to use an alrenating index to switch between low and high. \n",
        "Index = low\n",
        "1 < 2?  Yes, no change\n",
        "Index = high\n",
        "2 < 3? No, swap\n"
      ],
      "metadata": {
        "id": "E5eDkm_XbJSZ"
      }
    },
    {
      "cell_type": "code",
      "source": [
        "## Linked Lists codes from previous\n",
        "class Node:\n",
        "  def __init__(self, data, next = None):\n",
        "    self.data = data\n",
        "    self.next = next\n",
        "\n",
        "class LinkedList:\n",
        "  def __init__(self):\n",
        "    self.head = None\n",
        "  def add_node(self, data):\n",
        "    new = Node(data)\n",
        "    new.next = self.head\n",
        "    self.head = new\n",
        "  def add_end(self, data):\n",
        "    new = Node(data)\n",
        "    if not self.head:\n",
        "      self.head = new\n",
        "    else:\n",
        "      temp = self.head\n",
        "      while temp.next:\n",
        "        temp = temp.next\n",
        "      temp.next = new\n",
        "  def show_node(self):\n",
        "    temp = self.head\n",
        "    while temp:\n",
        "      print(temp.data)\n",
        "      temp = temp.next\n",
        "    \n",
        "\n",
        "  \n",
        "      \n",
        "\n"
      ],
      "metadata": {
        "id": "AOaen4K2bmhJ"
      },
      "execution_count": 1,
      "outputs": []
    },
    {
      "cell_type": "code",
      "source": [
        "# create our list for test\n",
        "k = [1,2,3,4,5]\n",
        "highlow = LinkedList()\n",
        "for i in k:\n",
        "  highlow.add_end(i)\n",
        "highlow.show_node()"
      ],
      "metadata": {
        "colab": {
          "base_uri": "https://localhost:8080/"
        },
        "id": "58ky0RG7ipRm",
        "outputId": "6b6e3e97-d8ec-44c9-f315-4644b68b1b55"
      },
      "execution_count": 31,
      "outputs": [
        {
          "output_type": "stream",
          "name": "stdout",
          "text": [
            "1\n",
            "2\n",
            "3\n",
            "4\n",
            "5\n"
          ]
        }
      ]
    },
    {
      "cell_type": "markdown",
      "source": [
        "## swapping data and not the 'next'\n",
        "We have to remember that the node.next contains the pointer to the next node and not the number.  \n",
        "\n",
        "We tend to think about linked list in this way\n",
        "1->2, 2->3, 3->4  and so on.  \n",
        "\n",
        "However, in acutual:\n",
        "\n",
        "Example\n",
        "```\n",
        "list(n) = (data, pointer to the next)\n",
        "list(1) = (1, pointer to list(2))\n",
        "list(2) = (2, pointer to list(3))\n",
        "list(3) = (3, pointer to list(4))\n",
        "```\n",
        "\n",
        "So swapping 2 and 3 becomes\n",
        "```\n",
        "list(1) = (1, pointer to list(2))\n",
        "list(2) = (3, pointer to list(3))\n",
        "list(3) = (2, pointer to list(4))\n",
        "```\n",
        "The list pointers are in order, so we just need to change the data in the nodes to reflect the order that we wanted."
      ],
      "metadata": {
        "id": "jU0zxKN4Ngyh"
      }
    },
    {
      "cell_type": "code",
      "source": [
        "## using a high-low index\n",
        "def alt(l):\n",
        "  low = True # starting with low\n",
        "  cur = l.head\n",
        "  while cur.next:\n",
        "    if low and cur.data > cur.next.data:\n",
        "      cur.data, cur.next.data = cur.next.data, cur.data\n",
        "    if not low and cur.data < cur.next.data:\n",
        "      cur.data, cur.next.data = cur.next.data, cur.data\n",
        "    low = not low\n",
        "    cur = cur.next\n",
        "\n",
        "  return l\n"
      ],
      "metadata": {
        "id": "0Xh6zWu_n01v"
      },
      "execution_count": 28,
      "outputs": []
    },
    {
      "cell_type": "code",
      "source": [
        "## Book Solution using a switch\n",
        "def alternate(ll):\n",
        "  even = True\n",
        "  cur = ll.head\n",
        "  while cur.next:\n",
        "    if cur.data > cur.next.data and even:\n",
        "      cur.data, cur.next.data = cur.next.data, cur.data\n",
        "    elif cur.data < cur.next.data and not even:\n",
        "      cur.data, cur.next.data = cur.next.data, cur.data\n",
        "    \n",
        "    even = not even\n",
        "    cur = cur.next\n",
        "\n",
        "  return ll"
      ],
      "metadata": {
        "id": "USwX6-jNw9S3"
      },
      "execution_count": 15,
      "outputs": []
    },
    {
      "cell_type": "code",
      "source": [
        "result = alt(highlow)\n",
        "result.show_node()"
      ],
      "metadata": {
        "colab": {
          "base_uri": "https://localhost:8080/"
        },
        "id": "ip4o6K1MxxkV",
        "outputId": "320062b7-ae4b-4ed8-afb0-8dc29d83b9b4"
      },
      "execution_count": 29,
      "outputs": [
        {
          "output_type": "stream",
          "name": "stdout",
          "text": [
            "1\n",
            "3\n",
            "2\n",
            "5\n",
            "4\n"
          ]
        }
      ]
    },
    {
      "cell_type": "markdown",
      "source": [
        "## Comparing 3 consecutive numbers\n",
        "We started with low-high-low.  The pattern repeats if we skip 2 items(index).  In terms of position, (0,1,2) == (low, high, low) and then (2,3,4) == (low, high, low). \n",
        "\n",
        "For this solution, we compare 3 nodes at one go, skip forward 2 position and do the same."
      ],
      "metadata": {
        "id": "Ic20HcawSUNs"
      }
    },
    {
      "cell_type": "code",
      "source": [
        "def alt2(ll):\n",
        "  prev = ll.head\n",
        "  cur = prev.next\n",
        "  while cur:\n",
        "    if prev.data > cur.data: # want prev to be lower than current\n",
        "      prev.data, cur.data = cur.data, prev.data\n",
        "    if not cur.next: #we need the next node for comparison\n",
        "      break\n",
        "    if cur.data < cur.next.data: # want current to be higher than the next\n",
        "      cur.data, cur.next.data = cur.next.data, cur.data\n",
        "    prev = prev.next.next #skip forward by 2\n",
        "    cur = prev.next\n",
        "  return ll\n",
        "    "
      ],
      "metadata": {
        "id": "KKToW9rGTbG6"
      },
      "execution_count": 32,
      "outputs": []
    },
    {
      "cell_type": "code",
      "source": [
        "result = alt2(highlow)\n",
        "result.show_node()"
      ],
      "metadata": {
        "colab": {
          "base_uri": "https://localhost:8080/"
        },
        "id": "O6uMux-uXQVM",
        "outputId": "c534f705-f3c8-4285-8563-99b6a87e8ea0"
      },
      "execution_count": 33,
      "outputs": [
        {
          "output_type": "stream",
          "name": "stdout",
          "text": [
            "1\n",
            "3\n",
            "2\n",
            "5\n",
            "4\n"
          ]
        }
      ]
    },
    {
      "cell_type": "code",
      "source": [
        "## Solution from Book\n",
        "def alternate(ll):\n",
        "  prev = ll\n",
        "  cur = ll.next\n",
        "  while cur:\n",
        "    if prev.data > cur.data:\n",
        "      prev.data, cur.data = cur.data, prev.data\n",
        "    if not cur.next:\n",
        "      break\n",
        "    if cur.next.data > cur.data:\n",
        "      cur.next.data, cur.data = cur.data, cur.next.data\n",
        "    \n",
        "    prev = cur.next\n",
        "    cur = cur.next.next\n",
        "\n",
        "  return ll"
      ],
      "metadata": {
        "id": "Pq9AQKH6Xbvv"
      },
      "execution_count": null,
      "outputs": []
    }
  ]
}