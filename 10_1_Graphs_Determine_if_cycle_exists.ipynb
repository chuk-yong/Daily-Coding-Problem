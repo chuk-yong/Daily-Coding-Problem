{
  "nbformat": 4,
  "nbformat_minor": 0,
  "metadata": {
    "colab": {
      "name": "10-1_Graphs-Determine-if-cycle-exists.ipynb",
      "provenance": [],
      "authorship_tag": "ABX9TyP+a3tkpLsm7OHt5mvLOKNQ",
      "include_colab_link": true
    },
    "kernelspec": {
      "name": "python3",
      "display_name": "Python 3"
    },
    "language_info": {
      "name": "python"
    }
  },
  "cells": [
    {
      "cell_type": "markdown",
      "metadata": {
        "id": "view-in-github",
        "colab_type": "text"
      },
      "source": [
        "<a href=\"https://colab.research.google.com/github/chuk-yong/Daily-Coding-Problem/blob/main/10_1_Graphs_Determine_if_cycle_exists.ipynb\" target=\"_parent\"><img src=\"https://colab.research.google.com/assets/colab-badge.svg\" alt=\"Open In Colab\"/></a>"
      ]
    },
    {
      "cell_type": "markdown",
      "source": [
        "## Deterimine if a cycle exist\n",
        "\n",
        "Given a directed graph, determine if it contains a cycle.\n"
      ],
      "metadata": {
        "id": "DcYAXazPPPNo"
      }
    },
    {
      "cell_type": "markdown",
      "source": [
        "## Solution\n",
        "\n",
        "Using DFS, visit each vertex that has not been visited.  If we found a neighbour that we have visited, then we know there are 2 ways to get to it.  Return True."
      ],
      "metadata": {
        "id": "4kHwVbzBPkld"
      }
    },
    {
      "cell_type": "code",
      "source": [
        "def search(graph, vertex, visited, parent):\n",
        "  visited[vertex] = True\n",
        "\n",
        "  for neighbour in graph[vertex]:\n",
        "    print(\"search :\", neighbour)\n",
        "    if not visited[neighbour]:\n",
        "      if search(graph, neighbour, visited, vertex):\n",
        "        return True\n",
        "\n",
        "    elif parent != neighbour:\n",
        "      return True\n",
        "\n",
        "  return False\n",
        "\n",
        "def has_cycle(graph):\n",
        "  visited = {v: False for v in graph.keys()}\n",
        "\n",
        "  for vertex in graph.keys():\n",
        "    print(\"vertex :\", vertex)\n",
        "    if not visited[vertex]:\n",
        "      if search(graph, vertex, visited, None):\n",
        "        return True\n",
        "  return False"
      ],
      "metadata": {
        "id": "UQrnI9YoP9KB"
      },
      "execution_count": 9,
      "outputs": []
    },
    {
      "cell_type": "code",
      "source": [
        "airport = {\n",
        "  'JFK':['SFO', 'LAX'],\n",
        "  'SFO':['ORL'],\n",
        "  'ORL':['JFK', 'LAX', 'DFW'],\n",
        "  'LAX':['DFW']\n",
        "}\n",
        "\n",
        "print(has_cycle(airport))"
      ],
      "metadata": {
        "colab": {
          "base_uri": "https://localhost:8080/"
        },
        "id": "Ldp5lJHWRQSt",
        "outputId": "1a6bdca0-1dfd-42ce-c42f-a1b0b52b5795"
      },
      "execution_count": 10,
      "outputs": [
        {
          "output_type": "stream",
          "name": "stdout",
          "text": [
            "vertex : JFK\n",
            "search : SFO\n",
            "search : ORL\n",
            "search : JFK\n",
            "True\n"
          ]
        }
      ]
    }
  ]
}