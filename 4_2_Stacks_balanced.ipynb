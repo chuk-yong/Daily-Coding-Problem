{
  "nbformat": 4,
  "nbformat_minor": 0,
  "metadata": {
    "colab": {
      "name": "4.2-Stacks-balanced.ipynb",
      "provenance": [],
      "authorship_tag": "ABX9TyNsGxkJtK5J1QoErBS1/ijm",
      "include_colab_link": true
    },
    "kernelspec": {
      "name": "python3",
      "display_name": "Python 3"
    },
    "language_info": {
      "name": "python"
    }
  },
  "cells": [
    {
      "cell_type": "markdown",
      "metadata": {
        "id": "view-in-github",
        "colab_type": "text"
      },
      "source": [
        "<a href=\"https://colab.research.google.com/github/chuk-yong/Daily-Coding-Problem/blob/main/4_2_Stacks_balanced.ipynb\" target=\"_parent\"><img src=\"https://colab.research.google.com/assets/colab-badge.svg\" alt=\"Open In Colab\"/></a>"
      ]
    },
    {
      "cell_type": "markdown",
      "source": [
        "## Given a string of round, curly, and square brackets, return whether the brackets are balanced.\n",
        "\n",
        "For example, given \n",
        "```\n",
        "\"([])[]({})\"\n",
        "```\n",
        " you should return true\n",
        "\n",
        "Given \n",
        "```\n",
        "\"([)]\" or \"((()\"\n",
        "```\n",
        "you should return false"
      ],
      "metadata": {
        "id": "WP5jbevTOTvZ"
      }
    },
    {
      "cell_type": "markdown",
      "source": [
        "We will iterate over the list.  when we encounter an opening bracket, we keep it in a stack.  Once we enconter a closing bracket, we check it with the last element in the stack:\n",
        "\n",
        "> If match: pop it off the stack as we found the closing bracket.\n",
        "\n",
        "> If not match: return false\n"
      ],
      "metadata": {
        "id": "PSDmkPYpPKEV"
      }
    },
    {
      "cell_type": "code",
      "source": [
        "def balanced(s):\n",
        "  stack = []\n",
        "  opening = (\"(\", \"[\", \"{\")\n",
        "  for char in s:\n",
        "    if char in opening:\n",
        "      stack.append(char)\n",
        "    else:\n",
        "      if not stack:# at start or when stack is empty, and the item is not an opening\n",
        "        return False \n",
        "      if char == \")\" and stack[-1] !=\"(\" or \\\n",
        "        char == \"]\" and stack[-1] !=\"[\" or \\\n",
        "        char == \"}\" and stack[-1] != \"}\":\n",
        "        return False\n",
        "      stack.pop()\n",
        "\n",
        "  return len(stack) == 0. ## at the end of the iteration, our stack should be empty\n",
        "\n",
        "      \n",
        "\n"
      ],
      "metadata": {
        "id": "0fwcVrIoQJW_"
      },
      "execution_count": null,
      "outputs": []
    },
    {
      "cell_type": "code",
      "source": [
        ""
      ],
      "metadata": {
        "id": "N7ycHBStZb1P"
      },
      "execution_count": null,
      "outputs": []
    }
  ]
}