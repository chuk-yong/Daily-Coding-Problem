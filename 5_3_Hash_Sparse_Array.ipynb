{
  "nbformat": 4,
  "nbformat_minor": 0,
  "metadata": {
    "colab": {
      "name": "5-3_Hash-Sparse-Array.ipynb",
      "provenance": [],
      "authorship_tag": "ABX9TyNl+mFXgv0Ciqk1SDDkMjJu",
      "include_colab_link": true
    },
    "kernelspec": {
      "name": "python3",
      "display_name": "Python 3"
    },
    "language_info": {
      "name": "python"
    }
  },
  "cells": [
    {
      "cell_type": "markdown",
      "metadata": {
        "id": "view-in-github",
        "colab_type": "text"
      },
      "source": [
        "<a href=\"https://colab.research.google.com/github/chuk-yong/Daily-Coding-Problem/blob/main/5_3_Hash_Sparse_Array.ipynb\" target=\"_parent\"><img src=\"https://colab.research.google.com/assets/colab-badge.svg\" alt=\"Open In Colab\"/></a>"
      ]
    },
    {
      "cell_type": "markdown",
      "source": [
        "## Implement a sparse array\n",
        "You have a large array, most of whose elements are zero.\n",
        "\n",
        "Create a more space-efficient data structure, *SparseArray*, that implement the following interface:\n",
        "* init(arr, size): initialise with the original large array and size\n",
        "* set(i, val): update index at i to be val.\n",
        "* get(i): get the value at index i.\n",
        "\n"
      ],
      "metadata": {
        "id": "ZIl2s17YQuDM"
      }
    },
    {
      "cell_type": "markdown",
      "source": [
        "## Strategy\n",
        "The hash table need not be sequential.  \n",
        "Only keep track of the non-zero value and indices. Use a dictionary.\n",
        "\n",
        "Check for bounds when getting and setting i, and to clean up any indices if we're setting an index to zero."
      ],
      "metadata": {
        "id": "LADsRKBPRTFy"
      }
    },
    {
      "cell_type": "code",
      "source": [
        "class SparseArray:\n",
        "  def __init__(self, arr, n):\n",
        "    self.n = n\n",
        "    self._dict = {} # why make dict private??\n",
        "    for k, v in enumerate(arr): #k,v = key, value\n",
        "      if v != 0: # store if the value is not zero\n",
        "        self._dict[k] = v\n",
        "\n",
        "  def _check_bounds(self, i):\n",
        "    if i < 0 or i >= self.n:\n",
        "      raise IndexError('Out of bounds')\n",
        "\n",
        "  def set(self, k, v):\n",
        "    self._check_bounds(k)\n",
        "    if v != 0:\n",
        "      self._dict[k] = v\n",
        "    elif k in self._dict:\n",
        "      del self._dict[i]\n",
        "  \n",
        "  def get(self, i):\n",
        "    self._check_bounds(i)\n",
        "    return self._dict.get(k, 0) # return a default value of 0 if key not found"
      ],
      "metadata": {
        "id": "B8wb-RGng5fq"
      },
      "execution_count": null,
      "outputs": []
    }
  ]
}