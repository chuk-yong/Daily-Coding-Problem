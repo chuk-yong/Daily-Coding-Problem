{
  "nbformat": 4,
  "nbformat_minor": 0,
  "metadata": {
    "colab": {
      "name": "9-4_Heaps-Huffman_Tree.ipynb",
      "provenance": [],
      "authorship_tag": "ABX9TyO62pGm10fv0FiMCesiCtdA",
      "include_colab_link": true
    },
    "kernelspec": {
      "name": "python3",
      "display_name": "Python 3"
    },
    "language_info": {
      "name": "python"
    }
  },
  "cells": [
    {
      "cell_type": "markdown",
      "metadata": {
        "id": "view-in-github",
        "colab_type": "text"
      },
      "source": [
        "<a href=\"https://colab.research.google.com/github/chuk-yong/Daily-Coding-Problem/blob/main/9_4_Heaps_Huffman_Tree.ipynb\" target=\"_parent\"><img src=\"https://colab.research.google.com/assets/colab-badge.svg\" alt=\"Open In Colab\"/></a>"
      ]
    },
    {
      "cell_type": "markdown",
      "source": [
        "## Build a Huffman Tree\n",
        "A better explanation here: https://www.andrewferrier.com/my-work/huffman_tutorial/\n",
        "\n",
        "Given:\n",
        "```Python\n",
        "{\"a\":3, \"c\":6, \"e\":8, \"f\":2}\n",
        "```\n",
        "Sort the list/dictionary by frequency.  Then:\n",
        "* with the 2 lowest, form 2 leaf nodes with parent the sum of their frequency\n",
        "* push this frequency back into the queue. Repeat.\n",
        "\n",
        "Value|Frequency\n",
        "---|---\n",
        "f|2\n",
        "a|3\n",
        "c|6\n",
        "e|8\n",
        "\n",
        "iteration 1:\n",
        "<pre>\n",
        "              5:*\n",
        "            /.   \\\n",
        "          2:f.   3:a\n",
        "</pre>\n",
        "\n",
        "Value|Frequency\n",
        "---|---\n",
        "*|5\n",
        "c|6\n",
        "e|8\n",
        "\n",
        "iteration 2:\n",
        "<pre>              11:*\n",
        "            /.     \\\n",
        "          5:*.     6:c\n",
        "        /.    \\\n",
        "      2:f.    3:a \n",
        "</pre>\n",
        "\n",
        "Value|Frequency\n",
        "---|---\n",
        "e|8\n",
        "*|11\n",
        "\n",
        "iteration 3: \n",
        "<pre>\n",
        "              19:*\n",
        "            /.     \\\n",
        "          8:e.     11:*\n",
        "  !! The book had 11 on the left side??\n",
        "</pre>\n",
        "\n",
        "\n"
      ],
      "metadata": {
        "id": "MIJd1PylbKTW"
      }
    },
    {
      "cell_type": "markdown",
      "source": [
        ""
      ],
      "metadata": {
        "id": "oDkkRVSfbgD6"
      }
    },
    {
      "cell_type": "code",
      "source": [
        "# Solution\n",
        "import heapq\n",
        "\n",
        "class Node:\n",
        "  def __init__(self, value, left=None, right=None):\n",
        "    self.data = value\n",
        "    self.left = left\n",
        "    self.right = right\n",
        "\n",
        "def build_tree(freq):\n",
        "  nodes = []\n",
        "  for char, f in freq.items():\n",
        "    heapq.heappush(nodes, (f, Node(char)))\n",
        "\n",
        "  while len(nodes) > 1:\n",
        "    f1, n1 = heapq.heappop(nodes)\n",
        "    f2, n2 = heapq.heappop(nodes)\n",
        "    node = Node(\"*\", left=n1, right=n2)\n",
        "    heapq.heappush(nodes, (f1+f2, node))\n",
        "  \n",
        "  _, root = heapq.heappop(nodes) # the last node left is the root\n",
        "\n",
        "  return root\n",
        "\n",
        "\n",
        "def decode(root, str=\"\", mapping={}):\n",
        "  if not root:\n",
        "    return\n",
        "  \n",
        "  if not root.left and not root.right:\n",
        "    mapping[root.data] = str\n",
        "\n",
        "  decode(root.left, str+\"0\", mapping)\n",
        "  decode(root.right, str+\"1\", mapping)\n",
        "\n",
        "  return mapping\n",
        "\n"
      ],
      "metadata": {
        "id": "_nFPMa4Xizt3"
      },
      "execution_count": 5,
      "outputs": []
    },
    {
      "cell_type": "code",
      "source": [
        "frequency = {\"a\":3, \"c\":6, \"e\":8, \"f\":2}\n",
        "r = build_tree(frequency)\n",
        "decode(r)\n",
        "# return value is different because \"e\" is on the left tree"
      ],
      "metadata": {
        "colab": {
          "base_uri": "https://localhost:8080/"
        },
        "id": "pC5W5x1JmvqU",
        "outputId": "2642afcf-9ffd-415c-f192-9df39ec7e370"
      },
      "execution_count": 6,
      "outputs": [
        {
          "output_type": "execute_result",
          "data": {
            "text/plain": [
              "{'a': '101', 'c': '11', 'e': '0', 'f': '100'}"
            ]
          },
          "metadata": {},
          "execution_count": 6
        }
      ]
    },
    {
      "cell_type": "code",
      "source": [
        ""
      ],
      "metadata": {
        "id": "qM73aQHznWM7"
      },
      "execution_count": null,
      "outputs": []
    }
  ]
}