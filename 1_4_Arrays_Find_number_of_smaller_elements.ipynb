{
  "nbformat": 4,
  "nbformat_minor": 0,
  "metadata": {
    "colab": {
      "name": "1-4_Arrays-Find-number-of-smaller-elements.ipynb",
      "provenance": [],
      "authorship_tag": "ABX9TyO8T5lFVQL7QnBQg4sVDHYH",
      "include_colab_link": true
    },
    "kernelspec": {
      "name": "python3",
      "display_name": "Python 3"
    },
    "language_info": {
      "name": "python"
    }
  },
  "cells": [
    {
      "cell_type": "markdown",
      "metadata": {
        "id": "view-in-github",
        "colab_type": "text"
      },
      "source": [
        "<a href=\"https://colab.research.google.com/github/chuk-yong/Daily-Coding-Problem/blob/main/1_4_Arrays_Find_number_of_smaller_elements.ipynb\" target=\"_parent\"><img src=\"https://colab.research.google.com/assets/colab-badge.svg\" alt=\"Open In Colab\"/></a>"
      ]
    },
    {
      "cell_type": "markdown",
      "source": [
        "## Find number of smaller elements to the right\n",
        "Given [3, 4, 9, 6, 1] return [1, 1, 2, 1, 0]\n",
        "\n",
        "There is 1 smaller element to the right of 3\n",
        "\n",
        "There is 1 smaller element to the right of 4\n",
        "\n",
        "There is 2 smaller element to the right of 9\n",
        "\n",
        "and so on."
      ],
      "metadata": {
        "id": "lVQeWwnDWFuj"
      }
    },
    {
      "cell_type": "markdown",
      "source": [
        ""
      ],
      "metadata": {
        "id": "pDPiUNHxWjIW"
      }
    },
    {
      "cell_type": "code",
      "source": [
        "def smaller_to_right(arr):\n",
        "  result =[]\n",
        "  for i in range(len(arr)):\n",
        "    count = 0\n",
        "    for j in range(i+1, len(arr)):\n",
        "      if arr[j] < arr[i]:\n",
        "        count += 1\n",
        "    result.append(count)\n",
        "  return result"
      ],
      "metadata": {
        "id": "79M9sblwW3w_"
      },
      "execution_count": 7,
      "outputs": []
    },
    {
      "cell_type": "code",
      "source": [
        "arr = [3, 4, 9, 6, 1]\n",
        "print(smaller_to_right(arr))"
      ],
      "metadata": {
        "colab": {
          "base_uri": "https://localhost:8080/"
        },
        "id": "5sSv5aupYfen",
        "outputId": "c32f11fd-7508-4cd4-8611-8f07cd21d13b"
      },
      "execution_count": 8,
      "outputs": [
        {
          "output_type": "stream",
          "name": "stdout",
          "text": [
            "[1, 1, 2, 1, 0]\n"
          ]
        }
      ]
    },
    {
      "cell_type": "code",
      "source": [
        "# Solution from Book\n",
        "def smaller_counts_naive(lst):\n",
        "  result = []\n",
        "  for i, num in enumerate(lst):\n",
        "    count = sum(val < num for val in lst[i+1:])\n",
        "    result.append(count)\n",
        "  return result"
      ],
      "metadata": {
        "id": "o28UjhSEY64A"
      },
      "execution_count": 9,
      "outputs": []
    },
    {
      "cell_type": "code",
      "source": [
        "print(smaller_counts_naive(arr))"
      ],
      "metadata": {
        "colab": {
          "base_uri": "https://localhost:8080/"
        },
        "id": "8DGzUBg0ZQWd",
        "outputId": "550d5886-7cc1-4cce-fce9-b2de786f4ec6"
      },
      "execution_count": 10,
      "outputs": [
        {
          "output_type": "stream",
          "name": "stdout",
          "text": [
            "[1, 1, 2, 1, 0]\n"
          ]
        }
      ]
    },
    {
      "cell_type": "code",
      "source": [
        "# Solution using bisect\n",
        "# This take O(nlogn) time and O(n) space\n",
        "# printing to see what is going on using bisect\n",
        "import bisect\n",
        "def smaller_counts(lst):\n",
        "  result = []\n",
        "  seen =[]\n",
        "\n",
        "  for num in reversed(lst):\n",
        "    i = bisect.bisect_left(seen, num)\n",
        "    print(\"num =\",num, \"i = \",i)\n",
        "    result.append(i)\n",
        "    print(\"result = \", result)\n",
        "    bisect.insort(seen, num)\n",
        "    # seen.insert(i,num) does the same as the line above\n",
        "    print(\"seen =\", seen)\n",
        "  return list(reversed(result))"
      ],
      "metadata": {
        "id": "_UwD-4BkZgfa"
      },
      "execution_count": 30,
      "outputs": []
    },
    {
      "cell_type": "code",
      "source": [
        "smaller_counts(arr)"
      ],
      "metadata": {
        "colab": {
          "base_uri": "https://localhost:8080/"
        },
        "id": "7gPjwARrZ7PZ",
        "outputId": "1a9b9a86-e43d-4fed-85df-9735f65c4346"
      },
      "execution_count": 31,
      "outputs": [
        {
          "output_type": "stream",
          "name": "stdout",
          "text": [
            "num = 1 i =  0\n",
            "result =  [0]\n",
            "seen = [1]\n",
            "num = 6 i =  1\n",
            "result =  [0, 1]\n",
            "seen = [1, 6]\n",
            "num = 9 i =  2\n",
            "result =  [0, 1, 2]\n",
            "seen = [1, 6, 9]\n",
            "num = 4 i =  1\n",
            "result =  [0, 1, 2, 1]\n",
            "seen = [1, 4, 6, 9]\n",
            "num = 3 i =  1\n",
            "result =  [0, 1, 2, 1, 1]\n",
            "seen = [1, 3, 4, 6, 9]\n"
          ]
        },
        {
          "output_type": "execute_result",
          "data": {
            "text/plain": [
              "[1, 1, 2, 1, 0]"
            ]
          },
          "metadata": {},
          "execution_count": 31
        }
      ]
    },
    {
      "cell_type": "code",
      "source": [
        "arr = [3, 4, 9, 6, 1]\n",
        "print(bisect.bisect_left(arr, 4))"
      ],
      "metadata": {
        "colab": {
          "base_uri": "https://localhost:8080/"
        },
        "id": "H-3MCuZggjzT",
        "outputId": "c24bea1a-1917-4c01-8837-c247dd6dca86"
      },
      "execution_count": 25,
      "outputs": [
        {
          "output_type": "stream",
          "name": "stdout",
          "text": [
            "1\n"
          ]
        }
      ]
    }
  ]
}