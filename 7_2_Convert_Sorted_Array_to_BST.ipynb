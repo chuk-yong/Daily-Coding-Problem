{
  "nbformat": 4,
  "nbformat_minor": 0,
  "metadata": {
    "colab": {
      "name": "7-2_Convert-Sorted-Array-to-BST.ipynb",
      "provenance": [],
      "authorship_tag": "ABX9TyN6GytUj5Wd9tHt0xIGYYIr",
      "include_colab_link": true
    },
    "kernelspec": {
      "name": "python3",
      "display_name": "Python 3"
    },
    "language_info": {
      "name": "python"
    }
  },
  "cells": [
    {
      "cell_type": "markdown",
      "metadata": {
        "id": "view-in-github",
        "colab_type": "text"
      },
      "source": [
        "<a href=\"https://colab.research.google.com/github/chuk-yong/Daily-Coding-Problem/blob/main/7_2_Convert_Sorted_Array_to_BST.ipynb\" target=\"_parent\"><img src=\"https://colab.research.google.com/assets/colab-badge.svg\" alt=\"Open In Colab\"/></a>"
      ]
    },
    {
      "cell_type": "markdown",
      "source": [
        "## Convert Sorted Array to BST\n",
        "Given a sorted array, convert it to a height-balanced BST.\n",
        "\n"
      ],
      "metadata": {
        "id": "IagkfTof3omR"
      }
    },
    {
      "cell_type": "markdown",
      "source": [
        "Strategy\n",
        "\n",
        "Since the array is sorted, we can make the element in the middle to be the root node.\n",
        "\n",
        "The left would be our left sub-tree.  With each recursive call, we half the array, make the middle number our node and so on."
      ],
      "metadata": {
        "id": "G21HZRf43yZN"
      }
    },
    {
      "cell_type": "code",
      "source": [
        "# Soution from book\n",
        "class Node:\n",
        "  def __init__(self, value, left=None, right=None):\n",
        "    self.data = value\n",
        "    self.left = left\n",
        "    self.right = right\n",
        "\n",
        "def make_BST(array):\n",
        "  if not array:\n",
        "    return None\n",
        "  \n",
        "  mid = len(array) // 2\n",
        "  root = Node(array[mid])\n",
        "  root.left = make_BST(array[:mid])\n",
        "  root.right = make_BST(array[mid+1:])\n",
        "\n",
        "  return root\n"
      ],
      "metadata": {
        "id": "eahHq3N44WjM"
      },
      "execution_count": null,
      "outputs": []
    },
    {
      "cell_type": "code",
      "source": [
        "## Implementation\n",
        "# Had to use _func because the first call had to be check for self.tree and pass that as the root\n",
        "class Node:\n",
        "  def __init__(self, value):\n",
        "    self.data = value\n",
        "    self.left = None\n",
        "    self.right = None\n",
        "\n",
        "class BST:\n",
        "  def __init__(self, value = None):\n",
        "    if value == None:\n",
        "      self.root = None\n",
        "    else:\n",
        "      self.root = Node(value)\n",
        "\n",
        "  def insert(self, value):\n",
        "    if not self.root:\n",
        "      self.root = Node(value)\n",
        "    else:\n",
        "      self._insert(self.root, value)\n",
        "\n",
        "  def _insert(self, root, value):\n",
        "    if root.data > value:\n",
        "      if root.left == None:\n",
        "        root.left = Node(value)\n",
        "      else:\n",
        "        self._insert(root.left, value)\n",
        "\n",
        "    else:\n",
        "      if root.right == None:\n",
        "        root.right = Node(value)\n",
        "      else:\n",
        "        self._insert(root.right, value)\n",
        "\n",
        "  def find(self, value):\n",
        "    if not self.root:\n",
        "      return False\n",
        "    else:\n",
        "      return self._find(self.root, value)\n",
        "\n",
        "  def _find(self, root, value):\n",
        "    if root == None:\n",
        "      return False\n",
        "    elif root.data == value:\n",
        "      return True\n",
        "    elif root.data > value:\n",
        "      return self._find(root.left, value)\n",
        "    else:\n",
        "      return self._find(root.right, value)\n",
        "\n",
        "  def inorder(self):\n",
        "    if self.root:\n",
        "      arr = []\n",
        "      self._inorder(self.root, arr)\n",
        "      return arr\n",
        "    else:\n",
        "      print(\"Tree not found\")\n",
        "\n",
        "  def _inorder(self, root, arr):\n",
        "    if root != None:\n",
        "      self._inorder(root.left, arr)\n",
        "      arr.append(root.data)\n",
        "      self._inorder(root.right, arr)\n",
        "    return arr\n",
        "\n",
        "def make_BST(array, tree = None):\n",
        "  if not array:\n",
        "    return None\n",
        "  if tree == None:\n",
        "    mid = len(array) // 2\n",
        "    tree = BST(array[mid])\n",
        "    _make_BST(array[:mid], tree)\n",
        "    _make_BST(array[mid+1:], tree)\n",
        "  return tree\n",
        "\n",
        "def _make_BST(array, tree):\n",
        "  if not array:\n",
        "    return None\n",
        "  mid = len(array) // 2\n",
        "  tree.insert(array[mid])\n",
        "  _make_BST(array[:mid], tree)\n",
        "  _make_BST(array[mid+1:], tree)\n",
        "\n",
        "  return tree"
      ],
      "metadata": {
        "id": "2rUWRDRY5PBT"
      },
      "execution_count": 7,
      "outputs": []
    },
    {
      "cell_type": "code",
      "source": [
        "arr = [3, 5, 8, 9, 14, 25]\n",
        "tree = make_BST(arr)\n",
        "print(tree.inorder())\n",
        "tree.root.left.right.data"
      ],
      "metadata": {
        "colab": {
          "base_uri": "https://localhost:8080/"
        },
        "id": "wXF7wgPN7l4R",
        "outputId": "cd6c5aed-b257-4a56-acbf-4d66ae5ded2c"
      },
      "execution_count": 12,
      "outputs": [
        {
          "output_type": "stream",
          "name": "stdout",
          "text": [
            "[3, 5, 8, 9, 14, 25]\n"
          ]
        },
        {
          "output_type": "execute_result",
          "data": {
            "text/plain": [
              "8"
            ]
          },
          "metadata": {},
          "execution_count": 12
        }
      ]
    }
  ]
}