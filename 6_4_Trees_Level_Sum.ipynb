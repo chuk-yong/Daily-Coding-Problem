{
  "nbformat": 4,
  "nbformat_minor": 0,
  "metadata": {
    "colab": {
      "name": "6-4_Trees-Level-Sum.ipynb",
      "provenance": [],
      "authorship_tag": "ABX9TyOOC1aRV8sqXbiysYx0qtq7",
      "include_colab_link": true
    },
    "kernelspec": {
      "name": "python3",
      "display_name": "Python 3"
    },
    "language_info": {
      "name": "python"
    }
  },
  "cells": [
    {
      "cell_type": "markdown",
      "metadata": {
        "id": "view-in-github",
        "colab_type": "text"
      },
      "source": [
        "<a href=\"https://colab.research.google.com/github/chuk-yong/Daily-Coding-Problem/blob/main/6_4_Trees_Level_Sum.ipynb\" target=\"_parent\"><img src=\"https://colab.research.google.com/assets/colab-badge.svg\" alt=\"Open In Colab\"/></a>"
      ]
    },
    {
      "cell_type": "markdown",
      "source": [
        "## Get Tree Level with Minimum Sum\n",
        "\n",
        "Given a binary tree, return the level of the tree that has the minimum sum.\n",
        "\n",
        "Example:\n",
        "\n",
        "                  1\n",
        "                /.   \\\n",
        "              2.      3\n",
        "            /       /.  \\\n",
        "           4       5     6\n",
        "\n",
        "\n",
        "Level 0 = 1\n",
        "Level 1 = 2, 3\n",
        "Level 2 = 4, 5\n",
        "\n",
        "So the level with the minimum sum is 0\n"
      ],
      "metadata": {
        "id": "pB3Iqa_cF_mr"
      }
    },
    {
      "cell_type": "markdown",
      "source": [
        "## Solution\n",
        "\n",
        "We cannot use the pre-post-in order method for this.  Rather, go down level by level, starting with the root and ends when reach the leave.\n",
        "\n",
        "Can do it either with a recursive call or using a while loop\n",
        "\n",
        "Here, I explore a few solutions, both recursive and using while loop.  Not just returning the sum but also printing out the items in each level."
      ],
      "metadata": {
        "id": "f6hkm0lAGljN"
      }
    },
    {
      "cell_type": "code",
      "source": [
        "class Node:\n",
        "  def __init__(self, value, left = None, right = None):\n",
        "    self.value = value\n",
        "    self.left = left\n",
        "    self.right = right\n"
      ],
      "metadata": {
        "id": "-LTEgN1RMtDj"
      },
      "execution_count": 1,
      "outputs": []
    },
    {
      "cell_type": "code",
      "source": [
        "tree = Node(1)\n",
        "tree.left = Node(2)\n",
        "tree.right = Node(3)\n",
        "tree.left.left = Node(4)\n",
        "tree.right.left = Node(5)\n",
        "tree.right.right = Node(6)"
      ],
      "metadata": {
        "id": "BK_vG7xeNGJd"
      },
      "execution_count": 2,
      "outputs": []
    },
    {
      "cell_type": "code",
      "source": [
        "# Recursive, print nodes\n",
        "\n",
        "def getLevel(node, level):\n",
        "  if len(arr) == level: # when the len of arr is equal to the current level, we need to add a new list to the list\n",
        "    arr.append([])\n",
        "  arr[level].append(node.value)\n",
        "  if node.left:\n",
        "    getLevel(node.left, level+1)\n",
        "  if node.right:\n",
        "    getLevel(node.right, level+1)\n",
        "\n",
        "arr = []\n",
        "getLevel(tree, 0)\n",
        "print(arr)"
      ],
      "metadata": {
        "colab": {
          "base_uri": "https://localhost:8080/"
        },
        "id": "Em0ddUwKLPD5",
        "outputId": "d91e2e05-b02a-4fd2-d159-b506637181ba"
      },
      "execution_count": 57,
      "outputs": [
        {
          "output_type": "stream",
          "name": "stdout",
          "text": [
            "[[1], [2, 3], [4, 5, 6]]\n"
          ]
        }
      ]
    },
    {
      "cell_type": "code",
      "source": [
        "# Get max or min and the level they occur\n",
        "total = [sum(i) for i in arr]\n",
        "print(total)\n",
        "print(f'Max sum is : {max(total)} at Level : {total.index(max(total))}')\n",
        "print(f'Min sum is : {min(total)} at Level : {total.index(min(total))}')"
      ],
      "metadata": {
        "colab": {
          "base_uri": "https://localhost:8080/"
        },
        "id": "fujnIXiBjwsb",
        "outputId": "2d226dc9-f819-4c33-a794-e0b1c66ce124"
      },
      "execution_count": 8,
      "outputs": [
        {
          "output_type": "stream",
          "name": "stdout",
          "text": [
            "[1, 5, 15]\n",
            "Max sum is : 15 at Level : 2\n",
            "Min sum is : 1 at Level : 0\n"
          ]
        }
      ]
    },
    {
      "cell_type": "code",
      "source": [
        "# while loop, print nodes\n",
        "from collections import deque\n",
        "def printLevel(node):\n",
        "  level = 0\n",
        "  arr = []\n",
        "  q = deque()\n",
        "  q.append([node, level])\n",
        "\n",
        "  while q:\n",
        "    node, level = q.popleft()\n",
        "    if len(arr) == level:\n",
        "      arr.append([])\n",
        "    arr[level].append(node.value)\n",
        "    if node.left:\n",
        "      q.append([node.left, level + 1])\n",
        "    if node.right:\n",
        "      q.append([node.right, level + 1])\n",
        "\n",
        "  \n",
        "  return arr\n",
        "\n",
        "\n",
        "result = printLevel(tree)\n",
        "print(result)"
      ],
      "metadata": {
        "colab": {
          "base_uri": "https://localhost:8080/"
        },
        "id": "0zHTCe9HOVXv",
        "outputId": "49b0dee1-db77-4806-c1a2-ec67681452f8"
      },
      "execution_count": 62,
      "outputs": [
        {
          "output_type": "stream",
          "name": "stdout",
          "text": [
            "[[1], [2, 3], [4, 5, 6]]\n"
          ]
        }
      ]
    },
    {
      "cell_type": "markdown",
      "source": [
        "## Get Max or Min Level Sum \n",
        "\n",
        "We wont be returning the list of the nodes but have to sum up the levels as we traverse.\n",
        "\n",
        "To keep track of the level and their sum, we either use a list of list as above, or a dictionary\n",
        "\n"
      ],
      "metadata": {
        "id": "VsEN4n2Us5dQ"
      }
    },
    {
      "cell_type": "code",
      "source": [
        "# Get level sum using recursion\n",
        "# The array will contain the max sum of each level in a list of list.  The index is the level and index[0] contains the sum\n",
        "\n",
        "def getLevel(node, level):\n",
        "  if len(arr) == level: # when the len of arr is equal to the current level, we need to add a new list to the list\n",
        "    arr.append([0]) # Append and initialise it with a 0 so that we can add\n",
        "  arr[level][0] = arr[level][0] + node.value\n",
        "  if node.left:\n",
        "    getLevel(node.left, level+1)\n",
        "  if node.right:\n",
        "    getLevel(node.right, level+1)\n",
        "\n",
        "arr = []\n",
        "getLevel(tree, 0)\n",
        "print(f\"Level Sum is : {arr}\")\n",
        "print(f\"Max Level Sum is : {max(arr)[0]}\")\n",
        "print(f\"Min Level Sum is : {min(arr)[0]}\")"
      ],
      "metadata": {
        "colab": {
          "base_uri": "https://localhost:8080/"
        },
        "id": "NWCbIazztyGs",
        "outputId": "ddfc4071-d66c-4c53-8817-814d06f70343"
      },
      "execution_count": 49,
      "outputs": [
        {
          "output_type": "stream",
          "name": "stdout",
          "text": [
            "Level Sum is : [[1], [5], [15]]\n",
            "Max Level Sum is : 15\n",
            "Min Level Sum is : 1\n"
          ]
        }
      ]
    },
    {
      "cell_type": "code",
      "source": [
        "# Get level sum using while loop\n",
        "# while loop, print nodes\n",
        "from collections import deque\n",
        "def printLevel(node):\n",
        "  level = 0\n",
        "  arr = []\n",
        "  q = deque()\n",
        "  q.append([node, level])\n",
        "\n",
        "  while q:\n",
        "    node, level = q.popleft()\n",
        "    if len(arr) == level:\n",
        "      arr.append([0])\n",
        "    arr[level][0] = arr[level][0] + node.value\n",
        "    if node.left:\n",
        "      q.append([node.left, level + 1])\n",
        "    if node.right:\n",
        "      q.append([node.right, level + 1])\n",
        "\n",
        "  return arr\n",
        "\n",
        "\n",
        "result = printLevel(tree)\n",
        "print(result)\n",
        "print(f\"Max Level Sum is : {max(result)[0]} at Level : {result.index(max(result))}\")\n",
        "print(f\"Min Level Sum is : {min(result)[0]}\")"
      ],
      "metadata": {
        "colab": {
          "base_uri": "https://localhost:8080/"
        },
        "id": "rv7GwDeEyhPU",
        "outputId": "f760b021-59b9-4658-d84c-8731294fa074"
      },
      "execution_count": 68,
      "outputs": [
        {
          "output_type": "stream",
          "name": "stdout",
          "text": [
            "[[1], [5], [15]]\n",
            "Max Level Sum is : 15 at Level : 2\n",
            "Min Level Sum is : 1\n"
          ]
        }
      ]
    },
    {
      "cell_type": "code",
      "source": [
        "## Book solution\n",
        "from collections import defaultdict, deque\n",
        "\n",
        "def smallest_level(root):\n",
        "  queue = deque([])\n",
        "  queue.append((root, 0))\n",
        "\n",
        "  # Use dict to accululate the sum for each level\n",
        "  level_to_sum = defaultdict(int)\n",
        "\n",
        "  while queue:\n",
        "    node, level = queue.popleft()\n",
        "    level_to_sum[level] += node.value\n",
        "\n",
        "    if node.right:\n",
        "      queue.append(node.right, level +1)\n",
        "    \n",
        "    if node.left:\n",
        "      queue.append(node.left, level +1)\n",
        "  \n",
        "  return min(level_to_sum, key = level_to_sum.get)\n",
        "\n"
      ],
      "metadata": {
        "id": "O0eZoxzG7Lnd"
      },
      "execution_count": null,
      "outputs": []
    }
  ]
}