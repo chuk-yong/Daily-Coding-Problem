{
  "nbformat": 4,
  "nbformat_minor": 0,
  "metadata": {
    "colab": {
      "name": "3-1_Linked_Lists-Reversed.ipynb",
      "provenance": [],
      "authorship_tag": "ABX9TyNu53izW/J1uWp32KLh9WQq",
      "include_colab_link": true
    },
    "kernelspec": {
      "name": "python3",
      "display_name": "Python 3"
    },
    "language_info": {
      "name": "python"
    }
  },
  "cells": [
    {
      "cell_type": "markdown",
      "metadata": {
        "id": "view-in-github",
        "colab_type": "text"
      },
      "source": [
        "<a href=\"https://colab.research.google.com/github/chuk-yong/Daily-Coding-Problem/blob/main/3_1_Linked_Lists_Reversed.ipynb\" target=\"_parent\"><img src=\"https://colab.research.google.com/assets/colab-badge.svg\" alt=\"Open In Colab\"/></a>"
      ]
    },
    {
      "cell_type": "code",
      "execution_count": null,
      "metadata": {
        "id": "OUiis_M9gAvt"
      },
      "outputs": [],
      "source": [
        "class Node:\n",
        "  def __init__(self, data, next=None):\n",
        "    self.data = data\n",
        "    self.next = next\n",
        "\n",
        "# LinkedList\n",
        "class LinkedList:\n",
        "  def __init__(self):\n",
        "    self.head = None # initialised the list with a header node\n",
        "  def add_node(self,data): # remember to include self in the argument\n",
        "    new = Node(data) # create the node\n",
        "    new.next = self.head # swap the pointers\n",
        "    self.head = new\n",
        "  def show_node(self):\n",
        "    temp = self.head # set position to the first item\n",
        "    while temp: # loop till None is encountered\n",
        "      print(temp.data)\n",
        "      temp = temp.next\n",
        "  def add_end(self, data):\n",
        "    new = Node(data)\n",
        "    temp = self.head\n",
        "    while temp.next:\n",
        "      temp = temp.next\n",
        "    temp.next = new\n",
        "  def show_count(self):\n",
        "    counter = 0\n",
        "    temp = self.head\n",
        "    while temp:\n",
        "      counter +=1\n",
        "      temp = temp.next\n",
        "    print(\"There are\",counter,\"items in the list\")\n",
        "  def reversed(self):\n",
        "    prev, curr = None, self.head # set the prev and current items\n",
        "    while curr:\n",
        "      temp = curr.next # get the next item\n",
        "      curr.next = prev # reverse the counter, pointing to the previous item\n",
        "      prev = curr # replace the previous with current\n",
        "      curr = temp # replace the current with the next item. Ready for the next iteration\n",
        "    self.head = prev"
      ]
    }
  ]
}