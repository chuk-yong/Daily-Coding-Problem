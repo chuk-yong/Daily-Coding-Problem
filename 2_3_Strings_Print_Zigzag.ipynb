{
  "nbformat": 4,
  "nbformat_minor": 0,
  "metadata": {
    "colab": {
      "name": "2-3_Strings-Print_Zigzag.ipynb",
      "provenance": [],
      "authorship_tag": "ABX9TyOb6hUfrhEoNxQhLaIUI2bi",
      "include_colab_link": true
    },
    "kernelspec": {
      "name": "python3",
      "display_name": "Python 3"
    },
    "language_info": {
      "name": "python"
    }
  },
  "cells": [
    {
      "cell_type": "markdown",
      "metadata": {
        "id": "view-in-github",
        "colab_type": "text"
      },
      "source": [
        "<a href=\"https://colab.research.google.com/github/chuk-yong/Daily-Coding-Problem/blob/main/2_3_Strings_Print_Zigzag.ipynb\" target=\"_parent\"><img src=\"https://colab.research.google.com/assets/colab-badge.svg\" alt=\"Open In Colab\"/></a>"
      ]
    },
    {
      "cell_type": "markdown",
      "source": [
        "## Print Zigzag Form\n",
        "\n",
        "Given a string and a number of linesk, print the string in zigzag form.\n",
        "For example, given the sentence 'thisisazigzag' and k=4, you should print:\n",
        "\n",
        "t.....a.....g\\\n",
        ".h...s.z...a\\\n",
        "..i.i...i.z\\\n",
        "...s.....g\n",
        "\n",
        "Let's find some pattern:\n",
        "\n",
        "In the first line, each letter have 5 spaces in between. It is the 1st and 7th letter in the string\n",
        "\n",
        "In the second line, there's 1 spaces in the beginning, 2 spaces between each letters. They are the 2nd, 6th, 8th and 12th letter in the string\n",
        "\n",
        "In the 3rd line, there are 2 spaces in the beginning, 2 letters separated by a space and 3 spaces between the group of 2 letters.  They are the 3rd, 5th, 9th and 11th letters in the string\n",
        "\n",
        "In the 4th line, there are 3 spaces in the beginning, a letter, separated by 5 spaces. They are the 4th and 10th letters in the string.\n",
        "\n",
        "How do we pick the letters and how do we determind the spaces in between?\n",
        "\n",
        "\n",
        "\n"
      ],
      "metadata": {
        "id": "mmrjA6ni1edK"
      }
    },
    {
      "cell_type": "markdown",
      "source": [
        "## Oscillation\n",
        "\n",
        "Consider [1,2,3,4]\n",
        "If we start at 1 and go right and return to 1, we would pass by:\n",
        "\n",
        "2-3-4-3-2 = 5 steps\n",
        "\n",
        "For 1, we can only go right.\n",
        "\n",
        "If we start at 2 and go right and return to 2, we would pass by 3-4-3 = 3 steps.\n",
        "\n",
        "For 2, we can also go left and return to 2. Passing by\n",
        "1 = 1 steps\n",
        "\n",
        "For 3, going right we would passby 4 = 1 steps.  And going left, 2-1-2 = 3 steps\n",
        "\n",
        "For 4, we can only go left 3-2-1-2-3 = 5 steps\n",
        "\n",
        "So this is like an oscillation problem.\n",
        "\n",
        "Generalising it.  Going to the right:\n",
        "\n",
        "steps = (length-position)*2-1\n",
        "\n",
        "Going to the left:\n",
        "\n",
        "steps = position*2-1\n",
        "\n",
        "The steps represents spaces between the characters.  \n",
        "\n",
        "On line 1 or row 0\n",
        "We want to get characters 0th, 5 spaces, 6th, 5 spaces...\n",
        "\n",
        "On line 2 or row 1\n",
        "We want to get characters space, 1st, 3 spaces, 5th, 1 space, 7th....\n",
        "\n",
        "On line 3 or row 2\n",
        "We want to get 2 spaces, 2nd, 1 space, 4th, 3 spaces, 8th\n",
        "\n",
        "On line 4 or row 3\n",
        "We want 3 spaces, 3rd, 5 spaces, 9th, 5 spaces, 14th...\n",
        "\n",
        "How can we implement it?"
      ],
      "metadata": {
        "id": "zf1w89C1Kblc"
      }
    },
    {
      "cell_type": "markdown",
      "source": [
        "k = number of row, goes from 1 onwards\n",
        "\n",
        "rows = position of row starts from 0\n",
        "\n",
        "desc = descending? or in our example, going to the right.  True or False\n",
        "\n",
        "We first find the spaces in between the characters we need.  Then the next position will be the character we want.\n"
      ],
      "metadata": {
        "id": "1pbwhczDMNyv"
      }
    },
    {
      "cell_type": "code",
      "source": [
        "def get_spaces(row, desc, k):\n",
        "  if row == 0 or row == k-1:\n",
        "    spaces = (k-1)*2-1\n",
        "    return spaces\n",
        "  if desc:\n",
        "    spaces = (k-row-1)*2-1 # the number of steps going to the right as decribed above\n",
        "  else:\n",
        "    spaces = row*2-1 # the number of steps going to the left as decribed above\n",
        "  return spaces"
      ],
      "metadata": {
        "id": "mPF4M9yBd-5g"
      },
      "execution_count": 41,
      "outputs": []
    },
    {
      "cell_type": "code",
      "source": [
        "def zigzag(s, k):\n",
        "  for row in range(k):\n",
        "    i = row\n",
        "    output = \" \"*i #initialise output.  Add spaces in the beginning\n",
        "    output += s[i] #add the first character in the row\n",
        "    desc = True # set descend \n",
        "    while i < len(s):\n",
        "      spaces = get_spaces(row, desc, k)\n",
        "      output += \" \"*spaces # add the required spaces\n",
        "      i += spaces + 1 # set position of i to get the next character\n",
        "      if i < len(s): # check that we do not run out of characters in the string\n",
        "        output += (s[i])\n",
        "        desc = not desc # reverse the descend/ascend in the next loop\n",
        "    print(output)"
      ],
      "metadata": {
        "id": "-mP5vuq9dBX5"
      },
      "execution_count": 44,
      "outputs": []
    },
    {
      "cell_type": "code",
      "source": [
        "s = \"thisisazigzag\"\n",
        "k = 4\n",
        "zigzag(s,k)"
      ],
      "metadata": {
        "colab": {
          "base_uri": "https://localhost:8080/"
        },
        "id": "zBvaL5BxgAqp",
        "outputId": "09375673-8ef5-410a-820b-7913c8ac1da2"
      },
      "execution_count": 47,
      "outputs": [
        {
          "output_type": "stream",
          "name": "stdout",
          "text": [
            "t     a     g     \n",
            " h   s z   a \n",
            "  i i   i z   \n",
            "   s     g     \n"
          ]
        }
      ]
    },
    {
      "cell_type": "code",
      "source": [
        "s1 = \"thisisanotherzigzag\"\n",
        "k = 5\n",
        "zigzag(s1,k)"
      ],
      "metadata": {
        "colab": {
          "base_uri": "https://localhost:8080/"
        },
        "id": "IO-yhpCOo0YU",
        "outputId": "0b2b54f8-73ea-4b99-c6c5-d91d63d94d45"
      },
      "execution_count": 49,
      "outputs": [
        {
          "output_type": "stream",
          "name": "stdout",
          "text": [
            "t       o       z       \n",
            " h     n t     g a     \n",
            "  i   a   h   i   g   \n",
            "   s s     e z     \n",
            "    i       r       \n"
          ]
        }
      ]
    },
    {
      "cell_type": "markdown",
      "source": [
        "## Solution\n",
        "\n",
        "I find it hard to understand the explanation for the solution.  Nevertheless, I included it here for reference"
      ],
      "metadata": {
        "id": "BY0WSoVkrkjA"
      }
    },
    {
      "cell_type": "code",
      "source": [
        "def get_spaces(row, desc, k):\n",
        "  max_spaces = (k-1)*2-1\n",
        "  if desc:\n",
        "    spaces = max_spaces - row*2\n",
        "  else:\n",
        "    spaces = max_spaces -(k-1-row)*2\n",
        "  return spaces\n",
        "\n",
        "def is_decending(index, k):\n",
        "  # check whether index is more or less than halfway\n",
        "  # through its oscillation back to the starting point\n",
        "  return index % (2*(k-1)) < k-1\n",
        "\n",
        "def zigzag(sentence, k):\n",
        "  n = len(sentence)\n",
        "\n",
        "  for row in range(k):\n",
        "    i = row\n",
        "    line = [\" \" for _ in range(n)]\n",
        "\n",
        "    while i < n:\n",
        "      line[i] = sentence[i]\n",
        "      desc = is_decending(i,k)\n",
        "      spaces = get_spaces(row, desc, k)\n",
        "      i += spaces + 1\n",
        "\n",
        "    print(\"\".join(line))"
      ],
      "metadata": {
        "id": "oiodKInrruqa"
      },
      "execution_count": null,
      "outputs": []
    }
  ]
}