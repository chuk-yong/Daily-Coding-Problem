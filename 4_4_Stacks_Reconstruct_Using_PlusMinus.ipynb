{
  "nbformat": 4,
  "nbformat_minor": 0,
  "metadata": {
    "colab": {
      "name": "4-4_Stacks-Reconstruct-Using-PlusMinus.ipynb",
      "provenance": [],
      "authorship_tag": "ABX9TyOmllT11pHO0xdN1jBYK90x",
      "include_colab_link": true
    },
    "kernelspec": {
      "name": "python3",
      "display_name": "Python 3"
    },
    "language_info": {
      "name": "python"
    }
  },
  "cells": [
    {
      "cell_type": "markdown",
      "metadata": {
        "id": "view-in-github",
        "colab_type": "text"
      },
      "source": [
        "<a href=\"https://colab.research.google.com/github/chuk-yong/Daily-Coding-Problem/blob/main/4_4_Stacks_Reconstruct_Using_PlusMinus.ipynb\" target=\"_parent\"><img src=\"https://colab.research.google.com/assets/colab-badge.svg\" alt=\"Open In Colab\"/></a>"
      ]
    },
    {
      "cell_type": "markdown",
      "source": [
        "## Recontruct array using $+/-$ signs\n",
        "\n",
        "The sequence [0,1,....,N] has been jumbled, and the only clue you have for its order is an array representing whether each number is larger or smaller than the last.\n",
        "Given this information, reconstruct an array that is consistent with it. For example, given [None, +,+, -,+], you could return [0,1,3,2,4]\n"
      ],
      "metadata": {
        "id": "WsoGyrkjcwZL"
      }
    },
    {
      "cell_type": "markdown",
      "source": [
        "## Counter to book's explanation\n",
        "In another example given [None, +, -, -, -]. It said that we can reverse the last 3 entries of [0,1,2,3,4] to get [0,1,4,3,2].  Which is wrong.  The right answer should be [0,4,3,2,1]\n",
        "\n",
        "Clearly, we need to know how many '-' are there and we have to move the left item before the '-' to the correct position.\n",
        "\n",
        "If we see the '-' once, we need to swap/reverse 2 numbers.\n",
        "If we see the '-' 3 times, we need to reverse 4 numbers.\n",
        "\n",
        "Althought the second example is wrong.  The code is correct.\n",
        "\n"
      ],
      "metadata": {
        "id": "iwsx4omZdkhZ"
      }
    },
    {
      "cell_type": "code",
      "source": [
        "# Reconstruct array\n",
        "def reconstruct(arr):\n",
        "  answer = []\n",
        "  stack =[]\n",
        "\n",
        "  for i in range(len(arr)-1): # ends at the second last because we will be 'looking' at the last element in the coming statement\n",
        "    if arr[i+1] == '-': # when we see the next one is decending. keep the current in the stack. have to swap\n",
        "      stack.append(i)\n",
        "    else:\n",
        "      answer.append(i) #if we see a \"+\" the current will be larger than the numbers in the stack. safe to put it in as answer\n",
        "      while stack:\n",
        "        answer.append(stack.pop()) # start popping from the right... from large to small\n",
        "    \n",
        "  stack.append(len(arr)-1) # the last item in the array\n",
        "  while stack: # clear out the rest of the stack\n",
        "    answer.append(stack.pop())\n",
        "  \n",
        "  return answer"
      ],
      "metadata": {
        "id": "SweBowHFr0wL"
      },
      "execution_count": 13,
      "outputs": []
    },
    {
      "cell_type": "code",
      "source": [
        "arr1 = [None, \"+\", \"-\", \"-\", \"+\"]\n",
        "arr2 = [None, '+','-','-','-']\n",
        "\n",
        "print(reconstruct(arr1))\n",
        "print(reconstruct(arr2))"
      ],
      "metadata": {
        "colab": {
          "base_uri": "https://localhost:8080/"
        },
        "id": "kWfN-DOQvuof",
        "outputId": "e3d49fb5-4024-461d-e953-850ded73ddee"
      },
      "execution_count": 12,
      "outputs": [
        {
          "output_type": "stream",
          "name": "stdout",
          "text": [
            "[0, 3, 2, 1, 4]\n",
            "[0, 4, 3, 2, 1]\n"
          ]
        }
      ]
    }
  ]
}