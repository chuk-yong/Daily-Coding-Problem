{
  "nbformat": 4,
  "nbformat_minor": 0,
  "metadata": {
    "colab": {
      "name": "7-1_BST-Find-Floor-Ceiling.ipynb",
      "provenance": [],
      "authorship_tag": "ABX9TyOzeM3RHxPtVr+jTqdhMVXa",
      "include_colab_link": true
    },
    "kernelspec": {
      "name": "python3",
      "display_name": "Python 3"
    },
    "language_info": {
      "name": "python"
    }
  },
  "cells": [
    {
      "cell_type": "markdown",
      "metadata": {
        "id": "view-in-github",
        "colab_type": "text"
      },
      "source": [
        "<a href=\"https://colab.research.google.com/github/chuk-yong/Daily-Coding-Problem/blob/main/7_1_BST_Find_Floor_Ceiling.ipynb\" target=\"_parent\"><img src=\"https://colab.research.google.com/assets/colab-badge.svg\" alt=\"Open In Colab\"/></a>"
      ]
    },
    {
      "cell_type": "markdown",
      "source": [
        "## Find floor and ceiling \n",
        "Given a binary searh tree, find the floor and ceiling of a given integer. The floor is the highest element in the tree less than or equal to an integer, while the ceiling is the lowest element in the tree greater or equal to an integer.\n",
        "\n",
        "If either value does not exist, return None."
      ],
      "metadata": {
        "id": "GggWY8U_0UqG"
      }
    },
    {
      "cell_type": "markdown",
      "source": [
        "Strategy\n",
        "\n",
        "Use 2 variable floor and ceil\n",
        "\n",
        "if value < node.data, the ceiling can be no greater than node.data\n",
        "\n",
        "if value > node.data, the floor can be no less than node.data"
      ],
      "metadata": {
        "id": "qOz8teHT1gSo"
      }
    },
    {
      "cell_type": "code",
      "source": [
        "def floor_ceil(root, value, floor = None, ceil = None):\n",
        "  if not root:\n",
        "    return floor, ceil\n",
        "\n",
        "  if value == root.data:\n",
        "    return value, value\n",
        "  elif x < root.data:\n",
        "    floor, ceil = floor_ceil(root.left, value, floor, root.data)\n",
        "  elif x > root.data:\n",
        "    floor, ceil = floor_ceil(root.right, value, root.data, ceil)\n",
        "\n",
        "  return floor, ceil\n"
      ],
      "metadata": {
        "id": "MXjlZOPJ2DK3"
      },
      "execution_count": null,
      "outputs": []
    }
  ]
}