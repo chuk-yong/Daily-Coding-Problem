{
  "nbformat": 4,
  "nbformat_minor": 0,
  "metadata": {
    "colab": {
      "name": "1-3_Arrays-Max-Subarray-Sum.ipynb",
      "provenance": [],
      "authorship_tag": "ABX9TyO6bFVmxOd+Q/LLCPcrGQW/",
      "include_colab_link": true
    },
    "kernelspec": {
      "name": "python3",
      "display_name": "Python 3"
    },
    "language_info": {
      "name": "python"
    }
  },
  "cells": [
    {
      "cell_type": "markdown",
      "metadata": {
        "id": "view-in-github",
        "colab_type": "text"
      },
      "source": [
        "<a href=\"https://colab.research.google.com/github/chuk-yong/Daily-Coding-Problem/blob/main/1_3_Arrays_Max_Subarray_Sum.ipynb\" target=\"_parent\"><img src=\"https://colab.research.google.com/assets/colab-badge.svg\" alt=\"Open In Colab\"/></a>"
      ]
    },
    {
      "cell_type": "markdown",
      "source": [
        "## Calculate maximun subarray sum\n",
        "Given an array of numbers, find the maimum sum of any contiguous subarray.\n",
        "Given [34, -50, 42, 14, -5, 86], the max sum would be 137 with elements [42, 14, -5, 86]\n",
        "Given [-5, -1, -8, -9], the max sum would be 0 since we would choose not to take any elements.\n",
        "Also, what if the elements can wrap around? \n",
        "Given [8, -1, 3, 4] return 15 with elements [3,4,8]"
      ],
      "metadata": {
        "id": "sYQs4D-5jowr"
      }
    },
    {
      "cell_type": "markdown",
      "source": [
        "First try would be by brute force.  Iterate over every contiguous subarray."
      ],
      "metadata": {
        "id": "Lis3aZLpkWK-"
      }
    },
    {
      "cell_type": "code",
      "source": [
        "def max_subarray(arr):\n",
        "  max_seen, left, right = 0, 0, 0\n",
        "  for i in range(len(arr)):\n",
        "    for j in range(i+1, len(arr)+1):\n",
        "      if sum(arr[i:j]) > max_seen:\n",
        "        left = i\n",
        "        right = j\n",
        "        max_seen = sum(arr[i:j])\n",
        "  return max_seen, left, right"
      ],
      "metadata": {
        "id": "j5tCscNpkgdV"
      },
      "execution_count": 1,
      "outputs": []
    },
    {
      "cell_type": "markdown",
      "source": [
        "Is there a mistake in the book?\n",
        "Because i should go through all the elements in the array, including the last.  So it should be range(len(array)).\n",
        "j should be starting at i+1 and ends at len(array)+1.\n",
        "Else the first slice of the array will always be array[i,i] which returns empty. \n",
        "Also, len(array) is 6.  range(len(array)) would go to 5, instead of 6.  We would never be able to include the last element when doing the slicing.\n",
        "Example j would always ends 5.  But we want to slice up to and including 5.  So it should be array[i, len(array)+1]"
      ],
      "metadata": {
        "id": "_h8LCjjXvGfN"
      }
    },
    {
      "cell_type": "code",
      "source": [
        "arr = [34, -50, 42, 14, -5, 86]\n",
        "max_seen, left, right = max_subarray(arr)\n",
        "print(\"Max is = \", max_seen)\n",
        "print(arr[left:right])\n"
      ],
      "metadata": {
        "colab": {
          "base_uri": "https://localhost:8080/"
        },
        "id": "7ZShqUTNl3EK",
        "outputId": "041427bc-d792-43cf-83e8-002d968f98e0"
      },
      "execution_count": 3,
      "outputs": [
        {
          "output_type": "stream",
          "name": "stdout",
          "text": [
            "Max is =  137\n",
            "[42, 14, -5, 86]\n"
          ]
        }
      ]
    },
    {
      "cell_type": "code",
      "source": [
        "# Book solution\n",
        "def max_subarray_sum(arr):\n",
        "  current_max = 0\n",
        "  for i in range(len(arr)-1):\n",
        "    for j in range(i, len(arr)):\n",
        "      current_max = max(current_max, sum(arr[i:j]))\n",
        "  return current_max"
      ],
      "metadata": {
        "id": "_OamiVlsoLg-"
      },
      "execution_count": 5,
      "outputs": []
    },
    {
      "cell_type": "code",
      "source": [
        "print(max_subarray_sum(arr))"
      ],
      "metadata": {
        "colab": {
          "base_uri": "https://localhost:8080/"
        },
        "id": "xrkOgXTyooBi",
        "outputId": "4d1ae96d-87d5-47df-a3dc-67c8e7c08c3b"
      },
      "execution_count": 6,
      "outputs": [
        {
          "output_type": "stream",
          "name": "stdout",
          "text": [
            "56\n"
          ]
        }
      ]
    },
    {
      "cell_type": "markdown",
      "source": [
        "## Using Kadane's formula\n",
        "Here's a good explanation: https://www.geeksforgeeks.org/largest-sum-contiguous-subarray/\n",
        "\n",
        "The goal is to using just one loop so that it can complete in O(n) time rather than O(n^3) \n",
        "(why n^3?? should it not be n^2 since we are using 2 loops?)\n",
        "\n",
        "a = [0, 1, 3, -5, 8, 10, -15, 20, 35]\n",
        "max_end_here keep tracks of the maximum continuos maximum currently.\n",
        "max_so_far keep tracks of the absolute maximum so far\n",
        "\n",
        "a[0] = 0\n",
        "\n",
        "a[1] = 1, max_end updated to 1, max_so_far updated to 1\n",
        "\n",
        "a[2] = 3, 3+max_end = 4. max_end_here updated to 4, max_so_far updated to 4\n",
        "\n",
        "a[3] = -5, -5+ max_end_here = -1, reset max_end_here to 0\n",
        "\n",
        "a[4] = 8, update both since max_end_here was 0 and  max_so_far is 4\n",
        "\n",
        "a[5] = 10, update both to 18\n",
        "\n",
        "a[6] = -15, max_end_here is now 3 and max_so_far is 18\n",
        "\n",
        "a[7] = 20, max_end_here is now 23, update max_so_far to 23\n",
        "\n",
        "a[8] = 35, max_end_here is now 58, update max_so_far to 58 \n",
        "\n",
        "\n"
      ],
      "metadata": {
        "id": "HhS5pZoW0wB0"
      }
    },
    {
      "cell_type": "code",
      "source": [
        "def kadane(arr):\n",
        "  max_end_here = max_so_far = 0\n",
        "  for a in arr:\n",
        "    max_end_here = max_end_here + a\n",
        "    max_so_far = max(max_so_far, max_end_here)\n",
        "    if max_end_here < 0:\n",
        "      max_end_here =0\n",
        "  return max_end_here"
      ],
      "metadata": {
        "id": "TaAht28C1NvE"
      },
      "execution_count": 8,
      "outputs": []
    },
    {
      "cell_type": "code",
      "source": [
        "print(kadane(arr))"
      ],
      "metadata": {
        "colab": {
          "base_uri": "https://localhost:8080/"
        },
        "id": "eW5HiqLm8NXO",
        "outputId": "e84bec45-698e-421e-bd67-ddaaa2ee0f28"
      },
      "execution_count": 9,
      "outputs": [
        {
          "output_type": "stream",
          "name": "stdout",
          "text": [
            "137\n"
          ]
        }
      ]
    },
    {
      "cell_type": "code",
      "source": [
        "# Book solution using Kadane's algorithm\n",
        "def book_kadane(arr):\n",
        "  max_ending_here = max_so_far = 0\n",
        "  for x in arr:\n",
        "    max_ending_here = max(x, max_ending_here + x)\n",
        "    max_so_far = max(max_so_far, max_ending_here)\n",
        "  return max_so_far"
      ],
      "metadata": {
        "id": "PfSAiRHmyjaA"
      },
      "execution_count": 10,
      "outputs": []
    },
    {
      "cell_type": "code",
      "source": [
        "print(book_kadane(arr))"
      ],
      "metadata": {
        "colab": {
          "base_uri": "https://localhost:8080/"
        },
        "id": "wuf-YOmQzG1w",
        "outputId": "bacbfc65-4500-4601-bf62-7934a99a1a77"
      },
      "execution_count": 11,
      "outputs": [
        {
          "output_type": "stream",
          "name": "stdout",
          "text": [
            "137\n"
          ]
        }
      ]
    },
    {
      "cell_type": "markdown",
      "source": [
        "## Wrap around\n",
        "Given [8, -1, 3, 4]\n",
        "we return 15 as 3,4 and 8 are chosen.\n",
        "\n",
        "To accomplish this, we use a trick - find the minimum subarray sum. Then subtract it from the array total. \n",
        "\n",
        "As above, the array total is 14.  The minimum subarray sum is simply -1.  So, 14-(-1) gives us 15."
      ],
      "metadata": {
        "id": "DhyXF7grSCxk"
      }
    },
    {
      "cell_type": "code",
      "source": [
        "def min_subarray(arr):\n",
        "  min_seen_here = min_so_far = 0\n",
        "  for a in arr:\n",
        "    min_seen_here = min(min_seen_here, min_seen_here + a)\n",
        "    min_so_far = min(min_seen_here, min_so_far)\n",
        "  return min_so_far"
      ],
      "metadata": {
        "id": "hRXjRqhGTLnu"
      },
      "execution_count": 12,
      "outputs": []
    },
    {
      "cell_type": "code",
      "source": [
        "def max_wrap_around(arr):\n",
        "  max_subarray_wrap = sum(arr) - min_subarray(arr)\n",
        "  return max(max_subarray_sum(arr), max_subarray_wrap)"
      ],
      "metadata": {
        "id": "P8CciN4WUBxN"
      },
      "execution_count": 13,
      "outputs": []
    },
    {
      "cell_type": "code",
      "source": [
        "arr1 = [8, -1, 3, 4]\n",
        "print(max_wrap_around(arr1))"
      ],
      "metadata": {
        "colab": {
          "base_uri": "https://localhost:8080/"
        },
        "id": "2Xd6lX_7Uygg",
        "outputId": "75374502-7f5e-405f-eaea-b3366b015e69"
      },
      "execution_count": 15,
      "outputs": [
        {
          "output_type": "stream",
          "name": "stdout",
          "text": [
            "15\n"
          ]
        }
      ]
    }
  ]
}