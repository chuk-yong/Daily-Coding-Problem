{
  "nbformat": 4,
  "nbformat_minor": 0,
  "metadata": {
    "colab": {
      "name": "2-1_Strings-find-anagram.ipynb",
      "provenance": [],
      "authorship_tag": "ABX9TyMoyRP+HyVAPNqda+4MdiF3",
      "include_colab_link": true
    },
    "kernelspec": {
      "name": "python3",
      "display_name": "Python 3"
    },
    "language_info": {
      "name": "python"
    }
  },
  "cells": [
    {
      "cell_type": "markdown",
      "metadata": {
        "id": "view-in-github",
        "colab_type": "text"
      },
      "source": [
        "<a href=\"https://colab.research.google.com/github/chuk-yong/Daily-Coding-Problem/blob/main/2_1_Strings_find_anagram.ipynb\" target=\"_parent\"><img src=\"https://colab.research.google.com/assets/colab-badge.svg\" alt=\"Open In Colab\"/></a>"
      ]
    },
    {
      "cell_type": "markdown",
      "source": [
        "## Find Anagram Indices\n",
        "Given a word w and a string s, find all indices in s which are the starting locations of anagrams of w.  \n",
        "w = 'ab'\n",
        "\n",
        "s = 'abxaba'\n",
        "\n",
        "return [0, 3, 4]\n"
      ],
      "metadata": {
        "id": "ICHFn7raukC6"
      }
    },
    {
      "cell_type": "markdown",
      "source": [
        "## Using Counter\n",
        "Counter returns the keys representing the alphabets and values are their occurences.\n"
      ],
      "metadata": {
        "id": "OqDCzO4vApdi"
      }
    },
    {
      "cell_type": "code",
      "source": [
        "from collections import Counter\n"
      ],
      "metadata": {
        "id": "Jy0c_nRovFWY"
      },
      "execution_count": null,
      "outputs": []
    },
    {
      "cell_type": "code",
      "source": [
        "w = 'ab'\n",
        "s = 'abxaba'"
      ],
      "metadata": {
        "id": "Ydcaeah3BI7Y"
      },
      "execution_count": 3,
      "outputs": []
    },
    {
      "cell_type": "code",
      "source": [
        "# exploring Counter\n",
        "Counter(s)"
      ],
      "metadata": {
        "colab": {
          "base_uri": "https://localhost:8080/"
        },
        "id": "rKmd2RXfBSJ5",
        "outputId": "388ba26f-cdd2-4a7e-d400-c7b528b11de6"
      },
      "execution_count": null,
      "outputs": [
        {
          "output_type": "execute_result",
          "data": {
            "text/plain": [
              "Counter({'a': 3, 'b': 2, 'x': 1})"
            ]
          },
          "metadata": {},
          "execution_count": 5
        }
      ]
    },
    {
      "cell_type": "code",
      "source": [
        "def compare(s1, s2):\n",
        "  return Counter(s1) == Counter(s2)\n",
        "\n",
        "def indices(w,s):\n",
        "  result =[]\n",
        "  for i in range(len(s)-len(w)+1):\n",
        "    slider = s[i:i+len(w)] # sliding window along s\n",
        "    if compare(slider, w):\n",
        "      result.append(i)\n",
        "  return result\n",
        "\n"
      ],
      "metadata": {
        "id": "2Omr1rt3B0PU"
      },
      "execution_count": null,
      "outputs": []
    },
    {
      "cell_type": "code",
      "source": [
        "print(indices(w,s))"
      ],
      "metadata": {
        "colab": {
          "base_uri": "https://localhost:8080/"
        },
        "id": "K-j5CP3lC6rk",
        "outputId": "7a892613-fb67-4ad2-f839-e25bf91f395f"
      },
      "execution_count": null,
      "outputs": [
        {
          "output_type": "stream",
          "name": "stdout",
          "text": [
            "[0, 3, 4]\n"
          ]
        }
      ]
    },
    {
      "cell_type": "code",
      "source": [
        "## Solution - Brute forces as above\n",
        "## takes O(w x s) time\n",
        "from collections import Counter\n",
        "\n",
        "def is_anagram(s1,s2):\n",
        "  return Counter(s1) == Counter(s2)\n",
        "\n",
        "def anagram_indices(word, s):\n",
        "  result = []\n",
        "  for i in range(len(s)-len(w)+1):\n",
        "    windown = s[i:I+len(word)]\n",
        "    if is_anagram(window, word):\n",
        "      result.append(i)\n",
        "  return result"
      ],
      "metadata": {
        "id": "fPo8FF2SDFMf"
      },
      "execution_count": null,
      "outputs": []
    },
    {
      "cell_type": "markdown",
      "source": [
        "## Using hash tables\n",
        "First make a frequency dictionary of the initial window and the target word.  Move along the string, increment the count of each new character and decrement the count of the old. If at any point, there is no difference between the frequency of the target word and the counter, add the corresponding starting index to our result."
      ],
      "metadata": {
        "id": "A5oZde25y6a-"
      }
    },
    {
      "cell_type": "markdown",
      "source": [
        "##Using defaultdict: \n",
        "defaultdict has a property in that it does not return error when an item is not in the dictionary.  You can define the default behaviour when you call the function.  For example:\n",
        "\n",
        "def def_value():\n",
        "    return \"Not Present\"\n",
        "# now initiate our dictionary\n",
        "```\n",
        "d = defaultdict(def_value)\n",
        "```\n",
        "\n",
        "Another way:\n",
        "\n",
        "```\n",
        "d = defaultdict(lambda: \"Not Present\")\n",
        "```\n",
        "\n",
        "Or the most common way, to return 0:\n",
        "\n",
        "```\n",
        "d = defaultdict(lambda:0)\n",
        "or\n",
        "d = defaultdict(int)\n",
        "```"
      ],
      "metadata": {
        "id": "PpMtiHPS0ON7"
      }
    },
    {
      "cell_type": "code",
      "source": [
        "from collections import defaultdict\n",
        "\n",
        "def del_if_zero(dict, char):\n",
        "  if dict[char] == 0:\n",
        "    del dict[char]\n",
        "\n",
        "def anagram_indices(word, s):\n",
        "  result = []\n",
        "\n",
        "  freq = defaultdict(int)\n",
        "  for char in word:\n",
        "    freq[char] +=1\n",
        "  \n",
        "  for char in s[:len(word)]:\n",
        "    freq[char] -= 1\n",
        "    del_if_zero(freq, char)\n",
        "\n",
        "  if not freq:\n",
        "    result.append(0)\n",
        "\n",
        "  for i in range(len(word), len(s)):\n",
        "    start_char, end_char = s[i-len(word)], s[i]\n",
        "    freq[start_char] += 1\n",
        "    print(i, freq)\n",
        "    del_if_zero(freq, start_char)\n",
        "\n",
        "    freq[end_char] -= 1\n",
        "    print(i, freq)\n",
        "    del_if_zero(freq, end_char)\n",
        "\n",
        "    if not freq:\n",
        "      beginning_index = i - len(word) + 1\n",
        "      result.append(beginning_index)\n",
        "  \n",
        "  return result\n",
        "\n"
      ],
      "metadata": {
        "id": "C24TlQ_vCaPu"
      },
      "execution_count": 4,
      "outputs": []
    },
    {
      "cell_type": "code",
      "source": [
        "w = 'ab'\n",
        "s = 'abxaba'\n",
        "\n",
        "print(anagram_indices(w,s))"
      ],
      "metadata": {
        "colab": {
          "base_uri": "https://localhost:8080/"
        },
        "id": "ZK4yR6tOvmXX",
        "outputId": "4fdc5085-85ee-4233-c296-5e2ed0da4b33"
      },
      "execution_count": 5,
      "outputs": [
        {
          "output_type": "stream",
          "name": "stdout",
          "text": [
            "2 defaultdict(<class 'int'>, {'a': 1})\n",
            "2 defaultdict(<class 'int'>, {'a': 1, 'x': -1})\n",
            "3 defaultdict(<class 'int'>, {'a': 1, 'x': -1, 'b': 1})\n",
            "3 defaultdict(<class 'int'>, {'a': 0, 'x': -1, 'b': 1})\n",
            "4 defaultdict(<class 'int'>, {'x': 0, 'b': 1})\n",
            "4 defaultdict(<class 'int'>, {'b': 0})\n",
            "5 defaultdict(<class 'int'>, {'a': 1})\n",
            "5 defaultdict(<class 'int'>, {'a': 0})\n",
            "[0, 3, 4]\n"
          ]
        }
      ]
    },
    {
      "cell_type": "markdown",
      "source": [
        "## Step through\n",
        "i freq\n",
        "\n",
        "2 defaultdict(<class 'int'>, {'a': 1}). \n",
        "2 defaultdict(<class 'int'>, {'a': 1, 'x': -1}). \n",
        "\n",
        "3 defaultdict(<class 'int'>, {'a': 1, 'x': -1, 'b': 1})\\\n",
        "3 defaultdict(<class 'int'>, {'a': 0, 'x': -1, 'b': 1})\\\n",
        "After this 'a' will be deleted\n",
        "\n",
        "4 defaultdict(<class 'int'>, {'x': 0, 'b': 1})\\\n",
        "We see x again, now as the starting char.  Will be deleted after this pass.\n",
        "4 defaultdict(<class 'int'>, {'b': 0}\\\n",
        "Now 'b' will be deleted and freq is empty.  We know that we have seen our anagram. Update our indices with 4-len(word)+1=3\n",
        "\n",
        "5 defaultdict(<class 'int'>, {'a': 1})\\\n",
        "5 defaultdict(<class 'int'>, {'a': 0})\\\n",
        "\n",
        "### ?? How does it work when we don't compare it to our word ab??"
      ],
      "metadata": {
        "id": "v3lPd3dXwbln"
      }
    },
    {
      "cell_type": "code",
      "source": [
        "w = 'ab'\n",
        "s1 = 'abxcbc'\n",
        "print(anagram_indices(w,s))"
      ],
      "metadata": {
        "colab": {
          "base_uri": "https://localhost:8080/"
        },
        "id": "hKk2P8R6yLk0",
        "outputId": "159bc3dc-9e27-474e-e462-832fd79e4f62"
      },
      "execution_count": 7,
      "outputs": [
        {
          "output_type": "stream",
          "name": "stdout",
          "text": [
            "2 defaultdict(<class 'int'>, {'a': 1})\n",
            "2 defaultdict(<class 'int'>, {'a': 1, 'x': -1})\n",
            "3 defaultdict(<class 'int'>, {'a': 1, 'x': -1, 'b': 1})\n",
            "3 defaultdict(<class 'int'>, {'a': 0, 'x': -1, 'b': 1})\n",
            "4 defaultdict(<class 'int'>, {'x': 0, 'b': 1})\n",
            "4 defaultdict(<class 'int'>, {'b': 0})\n",
            "5 defaultdict(<class 'int'>, {'a': 1})\n",
            "5 defaultdict(<class 'int'>, {'a': 0})\n",
            "[0, 3, 4]\n"
          ]
        }
      ]
    },
    {
      "cell_type": "markdown",
      "source": [
        "As you can see we tricked the solution to return the same result.  But cbc is not the anagram we are looking for.\n",
        "So did we just discover a bug in the solution?  How is it possible that we can just slide through windows without comparing it to the word we are supposed to find?"
      ],
      "metadata": {
        "id": "SjBbyiDxyxbr"
      }
    }
  ]
}