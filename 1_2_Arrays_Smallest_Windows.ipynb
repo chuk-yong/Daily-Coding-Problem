{
  "nbformat": 4,
  "nbformat_minor": 0,
  "metadata": {
    "colab": {
      "name": "1-2_Arrays-Smallest-Windows.ipynb",
      "provenance": [],
      "collapsed_sections": [],
      "authorship_tag": "ABX9TyMBNaOTJD/OAIAe7VCe4O4u",
      "include_colab_link": true
    },
    "kernelspec": {
      "name": "python3",
      "display_name": "Python 3"
    },
    "language_info": {
      "name": "python"
    }
  },
  "cells": [
    {
      "cell_type": "markdown",
      "metadata": {
        "id": "view-in-github",
        "colab_type": "text"
      },
      "source": [
        "<a href=\"https://colab.research.google.com/github/chuk-yong/Daily-Coding-Problem/blob/main/1_2_Arrays_Smallest_Windows.ipynb\" target=\"_parent\"><img src=\"https://colab.research.google.com/assets/colab-badge.svg\" alt=\"Open In Colab\"/></a>"
      ]
    },
    {
      "cell_type": "markdown",
      "source": [
        "## Locate smallest window to be sorted\n",
        "Given an aray of integers that are unsorted, determine the bounds of the smallest window that must be sorted in order for the entire array to be sorted.\n",
        "For example [3,7,5,6,9], you should return [1,3]\n",
        "This means position 1 to 3 must be sorted. "
      ],
      "metadata": {
        "id": "K9LtzagfcmUO"
      }
    },
    {
      "cell_type": "markdown",
      "source": [
        "## Solution 1 - Compare it to a sorted list"
      ],
      "metadata": {
        "id": "zov4bXj2dZOX"
      }
    },
    {
      "cell_type": "code",
      "source": [
        "def window(array):\n",
        "  left, right = None, None\n",
        "  s = sorted(array)\n",
        "\n",
        "  for i in range(len(array)):\n",
        "    if array[i] != s[i] and left is None:\n",
        "      left = i\n",
        "    elif array[i] != s[i]:\n",
        "      right = i\n",
        "  return left, right\n"
      ],
      "metadata": {
        "id": "5gd84VAZde61"
      },
      "execution_count": 5,
      "outputs": []
    },
    {
      "cell_type": "code",
      "source": [
        "array = [3,7,5,6,9]\n",
        "print(window(array))"
      ],
      "metadata": {
        "colab": {
          "base_uri": "https://localhost:8080/"
        },
        "id": "PSnyL4O6eObn",
        "outputId": "9ae8f0a9-aed1-4fbe-8676-cdc33ab964ec"
      },
      "execution_count": 11,
      "outputs": [
        {
          "output_type": "stream",
          "name": "stdout",
          "text": [
            "(1, 3)\n"
          ]
        }
      ]
    },
    {
      "cell_type": "markdown",
      "source": [
        "## Solution 2 - traversing the list\n",
        "If the list is too large, it may not be efficient to created a sorted list.\n",
        "So first we traverse left to right and look for element that is less than the maximum at that point.  That element has to be part of the sorting window\n",
        "We can take the last element that is less than the running maximum and use it as our right bound. \n",
        "Similarly we traverse from right to left and find the last element that exceeds the running minimum.\n",
        "This will take 2 passes over the array. "
      ],
      "metadata": {
        "id": "SzcHFRSkeu9t"
      }
    },
    {
      "cell_type": "code",
      "source": [
        "def traverse(array):\n",
        "  left, right = None, None\n",
        "  n = len(array)\n",
        "  max_seen, min_seen = float('-inf'), float('inf')\n",
        "\n",
        "  for i in range(n):\n",
        "    max_seen = max(max_seen, array[i])\n",
        "    if array[i] < max_seen:\n",
        "      right = i\n",
        "\n",
        "  for i in range(n-1, -1, -1):\n",
        "    min_seen = min(min_seen, array[i])\n",
        "    if array[i] > min_seen:\n",
        "      left = i\n",
        "  return left, right"
      ],
      "metadata": {
        "id": "lRJXiRtTgw61"
      },
      "execution_count": 17,
      "outputs": []
    },
    {
      "cell_type": "code",
      "source": [
        "print(traverse(array))"
      ],
      "metadata": {
        "colab": {
          "base_uri": "https://localhost:8080/"
        },
        "id": "KAcZfm6ziCWA",
        "outputId": "76ef63b7-264b-46a8-b6b4-5ebc235bd69a"
      },
      "execution_count": 18,
      "outputs": [
        {
          "output_type": "stream",
          "name": "stdout",
          "text": [
            "(1, 3)\n"
          ]
        }
      ]
    }
  ]
}