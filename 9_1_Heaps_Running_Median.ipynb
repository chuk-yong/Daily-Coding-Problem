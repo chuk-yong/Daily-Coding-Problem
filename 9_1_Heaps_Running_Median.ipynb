{
  "nbformat": 4,
  "nbformat_minor": 0,
  "metadata": {
    "colab": {
      "name": "9-1_Heaps-Running-Median.ipynb",
      "provenance": [],
      "authorship_tag": "ABX9TyMXXTaqauzGBChhdiWWQSEJ",
      "include_colab_link": true
    },
    "kernelspec": {
      "name": "python3",
      "display_name": "Python 3"
    },
    "language_info": {
      "name": "python"
    }
  },
  "cells": [
    {
      "cell_type": "markdown",
      "metadata": {
        "id": "view-in-github",
        "colab_type": "text"
      },
      "source": [
        "<a href=\"https://colab.research.google.com/github/chuk-yong/Daily-Coding-Problem/blob/main/9_1_Heaps_Running_Median.ipynb\" target=\"_parent\"><img src=\"https://colab.research.google.com/assets/colab-badge.svg\" alt=\"Open In Colab\"/></a>"
      ]
    },
    {
      "cell_type": "markdown",
      "source": [
        "## Compute the running medianof a sequence of numbers.  \n",
        "That is, given a stream of numbers, print out the median of the list so far after each new element.\n",
        "\n",
        "Recall that the median of an even-numbered list is the average of the two middle numbers.\n",
        "\n",
        "For example, given [2, 1, 5, 7, 2, 0, 5], your algorithm should print out:\n",
        "2\n",
        "1.5\n",
        "2\n",
        "3.5\n",
        "2\n",
        "2\n",
        "2\n"
      ],
      "metadata": {
        "id": "0T7LOnsgq4tH"
      }
    },
    {
      "cell_type": "markdown",
      "source": [
        "# Strategy\n",
        "Implement two heaps, one min and the other max. As long as we keep them the same size, the median is either the root of the min-heap or the max-heap (or both if equal length)\n",
        "\n",
        "min-heap = root or the left most item is smallest.\n",
        "\n",
        "* if number is larger than median, add to min-heap\n",
        "* balance the two list\n",
        "* median is the root of the longer list or average of the rooth of both.\n",
        "\n",
        "\n",
        "num|min_heap|max_heap|median\n",
        "---|---|---|---\n",
        "2|[2]|[]|2\n",
        "\n",
        "num|min_heap|max_heap|median\n",
        "---|---|---|---\n",
        "1|[2]|[1]|1.5\n",
        "\n",
        "num|min_heap|max_heap|median\n",
        "---|---|---|---\n",
        "5|[2,5]|[1]|2\n",
        "\n",
        "num|min_heap|max_heap|median\n",
        "---|---|---|---\n",
        "7|[2,5,7]|[1]| rebalance\n",
        "-|[5,7]|[2,1]|3.5\n",
        "\n",
        "num|min_heap|max_heap|median\n",
        "---|---|---|---\n",
        "2|[5,7]|[2,2,1]|2\n",
        "\n",
        "num|min_heap|max_heap|median\n",
        "---|---|---|---\n",
        "0|[5,7]|[2,2,1,0]|rebalance\n",
        "-|[2,5,7]|[2,1,0]|2\n",
        "\n",
        "num|min_heap|max_heap|median\n",
        "---|---|---|---\n",
        "5|[2,5,5,7]|[2,1,0]|2\n",
        "\n",
        "Python only supports min-heaps.  We can get around that by making numbers negative (multiply by -1) before adding to create a max-heap.\n",
        "\n"
      ],
      "metadata": {
        "id": "nVJ_OR16raHB"
      }
    },
    {
      "cell_type": "code",
      "source": [
        "# Solution\n",
        "import heapq\n",
        "\n",
        "def add_heap(num, median, min_heap, max_heap):\n",
        "  if num > median:\n",
        "    heapq.heappush(min_heap, num)\n",
        "  else:\n",
        "    heapq.heappush(max_heap, num*-1)\n",
        "\n",
        "def rebalance(min_heap, max_heap):\n",
        "  if len(min_heap) > len(max_heap)+1:\n",
        "    temp = heapq.heappop(min_heap)\n",
        "    heapq.heappush(max_heap, temp*-1)\n",
        "  elif len(max_heap) > len(min_heap)+1:\n",
        "    temp = heapq.heappop(max_heap)*-1\n",
        "    heapq.heappush(min_heap, temp)\n",
        "\n",
        "def _median(min_heap, max_heap):\n",
        "  if len(min_heap) > len(max_heap):\n",
        "    return min_heap[0]\n",
        "  elif len(max_heap) > len(min_heap):\n",
        "    return max_heap[0]*-1\n",
        "  else:\n",
        "    return (min_heap[0]+max_heap[0]*-1) / 2.0\n",
        "\n",
        "def get_median(stream):\n",
        "  min_heap = []\n",
        "  max_heap = []\n",
        "  median = 0\n",
        "  for num in stream:\n",
        "    add_heap(num, median, min_heap, max_heap)\n",
        "    rebalance(min_heap, max_heap)\n",
        "    median = _median(min_heap, max_heap)\n",
        "    print(median)\n",
        "\n",
        "\n",
        "\n",
        "\n",
        "\n"
      ],
      "metadata": {
        "id": "0R7x-BF4s1wX"
      },
      "execution_count": 6,
      "outputs": []
    },
    {
      "cell_type": "code",
      "source": [
        "stream = [2, 1, 5, 7, 2, 0, 5]\n",
        "get_median(stream)"
      ],
      "metadata": {
        "colab": {
          "base_uri": "https://localhost:8080/"
        },
        "id": "AZbMRh0Ps8PS",
        "outputId": "7aea28ce-19dc-4ae0-a64b-b6bc901317a2"
      },
      "execution_count": 7,
      "outputs": [
        {
          "output_type": "stream",
          "name": "stdout",
          "text": [
            "2\n",
            "1.5\n",
            "2\n",
            "3.5\n",
            "2\n",
            "2.0\n",
            "2\n"
          ]
        }
      ]
    }
  ]
}