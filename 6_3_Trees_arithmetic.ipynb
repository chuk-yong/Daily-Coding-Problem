{
  "nbformat": 4,
  "nbformat_minor": 0,
  "metadata": {
    "colab": {
      "name": "6-3_Trees_arithmetic.ipynb",
      "provenance": [],
      "authorship_tag": "ABX9TyMBk13nj/DvXQVBakCDWl3G",
      "include_colab_link": true
    },
    "kernelspec": {
      "name": "python3",
      "display_name": "Python 3"
    },
    "language_info": {
      "name": "python"
    }
  },
  "cells": [
    {
      "cell_type": "markdown",
      "metadata": {
        "id": "view-in-github",
        "colab_type": "text"
      },
      "source": [
        "<a href=\"https://colab.research.google.com/github/chuk-yong/Daily-Coding-Problem/blob/main/6_3_Trees_arithmetic.ipynb\" target=\"_parent\"><img src=\"https://colab.research.google.com/assets/colab-badge.svg\" alt=\"Open In Colab\"/></a>"
      ]
    },
    {
      "cell_type": "markdown",
      "source": [
        "## Evaluate Arithmetic Tree\n",
        "\n",
        "Given the following tree:\n",
        "\n",
        "                      *\n",
        "                  /.     \\\n",
        "                 +.       +\n",
        "                / \\.     /. \\\n",
        "               3.  2.   4.   5\n",
        "\n",
        "return (3+2) * (4+5) = 45\n",
        "\n"
      ],
      "metadata": {
        "id": "hylLJNiDfiif"
      }
    },
    {
      "cell_type": "markdown",
      "source": [
        "## Solution\n",
        "\n",
        "This is known as expression tree and to evaluate it we would use a post-order traversal.\n",
        "\n",
        "* At the root node\n",
        "  call left node and right node, apply arithmetic\n",
        "\n",
        "* If node is not an arithmetic sign, return the value\n",
        "  "
      ],
      "metadata": {
        "id": "TlPDTPGsgQJl"
      }
    },
    {
      "cell_type": "code",
      "source": [
        "class Node:\n",
        "  def __init__(self, value, left = None, right = None):\n",
        "    self.value = value\n",
        "    self.left = left\n",
        "    self.right = right\n",
        "\n",
        "def eval(root):\n",
        "  if root.value == '+':\n",
        "    return eval(root.left) + eval(root.right)\n",
        "  elif root.value == '-':\n",
        "    return eval(root.left) - eval(root.right)\n",
        "  elif root.value == '*':\n",
        "    return eval(root.left) * eval(root.right)\n",
        "  elif root.value == '/':\n",
        "    return eval(root.left) / eval(root.right)\n",
        "  else: \n",
        "    return root.value"
      ],
      "metadata": {
        "id": "9pTqm4CbhIt4"
      },
      "execution_count": 9,
      "outputs": []
    },
    {
      "cell_type": "code",
      "source": [
        "tree = Node('*')\n",
        "tree.left = Node('+')\n",
        "tree.left.left = Node(3)\n",
        "tree.left.right = Node(2)\n",
        "tree.right = Node('+')\n",
        "tree.right.left = Node(4)\n",
        "tree.right.right = Node(5)"
      ],
      "metadata": {
        "id": "95LetA7vk6FL"
      },
      "execution_count": 17,
      "outputs": []
    },
    {
      "cell_type": "code",
      "source": [
        "eval(tree)"
      ],
      "metadata": {
        "colab": {
          "base_uri": "https://localhost:8080/"
        },
        "id": "8LKJQHTClOqS",
        "outputId": "a32999ea-6c97-459a-f161-393b7a51b0d1"
      },
      "execution_count": 18,
      "outputs": [
        {
          "output_type": "execute_result",
          "data": {
            "text/plain": [
              "45"
            ]
          },
          "metadata": {},
          "execution_count": 18
        }
      ]
    }
  ]
}