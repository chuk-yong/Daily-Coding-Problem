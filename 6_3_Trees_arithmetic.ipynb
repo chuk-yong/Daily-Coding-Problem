{
  "nbformat": 4,
  "nbformat_minor": 0,
  "metadata": {
    "colab": {
      "name": "6-3_Trees_arithmetic.ipynb",
      "provenance": [],
      "authorship_tag": "ABX9TyMFHyw6qgbUwOgHzUgEdZ8h",
      "include_colab_link": true
    },
    "kernelspec": {
      "name": "python3",
      "display_name": "Python 3"
    },
    "language_info": {
      "name": "python"
    }
  },
  "cells": [
    {
      "cell_type": "markdown",
      "metadata": {
        "id": "view-in-github",
        "colab_type": "text"
      },
      "source": [
        "<a href=\"https://colab.research.google.com/github/chuk-yong/Daily-Coding-Problem/blob/main/6_3_Trees_arithmetic.ipynb\" target=\"_parent\"><img src=\"https://colab.research.google.com/assets/colab-badge.svg\" alt=\"Open In Colab\"/></a>"
      ]
    },
    {
      "cell_type": "markdown",
      "source": [
        "## Evaluate Arithmetic Tree\n",
        "\n",
        "Given the following tree:\n",
        "\n",
        "                      *\n",
        "                  /.     \\\n",
        "                 +.       +\n",
        "                / \\.     /. \\\n",
        "               3.  2.   4.   5\n",
        "\n",
        "return (3+2) * (4+5) = 45\n",
        "\n"
      ],
      "metadata": {
        "id": "hylLJNiDfiif"
      }
    },
    {
      "cell_type": "markdown",
      "source": [
        "## Solution\n",
        "\n",
        "This is known as expression tree and to evaluate it we would use a post-order traversal.\n",
        "\n",
        "* At the root node\n",
        "  call left node and right node, apply arithmetic\n",
        "\n",
        "* If node is not an arithmetic sign, return the value\n",
        "  "
      ],
      "metadata": {
        "id": "TlPDTPGsgQJl"
      }
    },
    {
      "cell_type": "code",
      "source": [
        "class Node:\n",
        "  def __init__(self, value, left = None, right = None):\n",
        "    self.value = value\n",
        "    self.left = left\n",
        "    self.right = right\n",
        "\n",
        "class Tree:\n",
        "  def __init__(self, value):\n",
        "    self.root = Node(value)\n",
        "\n",
        "def eval(root):\n",
        "  if root.value == '+':\n",
        "    return eval(root.left) + eval(root.right)\n",
        "  elif root.value == '-':\n",
        "    return eval(root.left) - eval(root.right)\n",
        "  elif root.value == '*':\n",
        "    return eval(root.left) * eval(root.right)\n",
        "  elif root.value == '/':\n",
        "    return eval(root.left) / eval(root.right)\n",
        "  else: \n",
        "    return root.value"
      ],
      "metadata": {
        "id": "9pTqm4CbhIt4"
      },
      "execution_count": 9,
      "outputs": []
    },
    {
      "cell_type": "code",
      "source": [
        "tree = Tree('*')\n",
        "tree.root.left = Node('+')\n",
        "tree.root.left.left = Node(3)\n",
        "tree.root.left.right = Node(2)\n",
        "tree.root.right = Node('+')\n",
        "tree.root.right.left = Node(4)\n",
        "tree.root.right.right = Node(5)"
      ],
      "metadata": {
        "id": "HqZuFQsRiW1i"
      },
      "execution_count": 10,
      "outputs": []
    },
    {
      "cell_type": "code",
      "source": [
        "eval(tree.root)"
      ],
      "metadata": {
        "colab": {
          "base_uri": "https://localhost:8080/"
        },
        "id": "FWrCEY5xkVXQ",
        "outputId": "4ca83b03-f50e-4b70-aa2b-174f9c9eaca0"
      },
      "execution_count": 11,
      "outputs": [
        {
          "output_type": "execute_result",
          "data": {
            "text/plain": [
              "45"
            ]
          },
          "metadata": {},
          "execution_count": 11
        }
      ]
    }
  ]
}