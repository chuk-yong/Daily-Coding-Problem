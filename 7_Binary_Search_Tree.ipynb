{
  "nbformat": 4,
  "nbformat_minor": 0,
  "metadata": {
    "colab": {
      "name": "7_Binary-Search-Tree.ipynb",
      "provenance": [],
      "authorship_tag": "ABX9TyNd+gIKZwFOgJv2Q82/v748",
      "include_colab_link": true
    },
    "kernelspec": {
      "name": "python3",
      "display_name": "Python 3"
    },
    "language_info": {
      "name": "python"
    }
  },
  "cells": [
    {
      "cell_type": "markdown",
      "metadata": {
        "id": "view-in-github",
        "colab_type": "text"
      },
      "source": [
        "<a href=\"https://colab.research.google.com/github/chuk-yong/Daily-Coding-Problem/blob/main/7_Binary_Search_Tree.ipynb\" target=\"_parent\"><img src=\"https://colab.research.google.com/assets/colab-badge.svg\" alt=\"Open In Colab\"/></a>"
      ]
    },
    {
      "cell_type": "markdown",
      "source": [
        "## Binary Search Tree\n",
        "BST is a binary tree whose node values are guranteed to stay in sorted order -- an in-order traversal of its nodes will create a sorted list.\n",
        "\n",
        "Insert, find and delete operartions all run in $O(h)$ time where $h$ is the height of the tree.\n",
        "\n",
        "If the tree is balanced?? these operation will run is $O(log n)$"
      ],
      "metadata": {
        "id": "pdURMK4DW0PO"
      }
    },
    {
      "cell_type": "code",
      "source": [
        "class Node:\n",
        "  def __init__(self, value):\n",
        "    self.data = value\n",
        "    self.left = None\n",
        "    self.right = None\n",
        "\n",
        "class BST:\n",
        "  def __init__(self, value = None):\n",
        "    if value == None:\n",
        "      self.root = None\n",
        "    else:\n",
        "      self.root = Node(value)\n",
        "\n",
        "  def insert(self, value):\n",
        "    if not self.root:\n",
        "      self.root = Node(value)\n",
        "    else:\n",
        "      self._insert(self.root, value)\n",
        "\n",
        "  def _insert(self, root, value):\n",
        "    if root.data > value:\n",
        "      if root.left == None:\n",
        "        root.left = Node(value)\n",
        "      else:\n",
        "        self._insert(root.left, value)\n",
        "\n",
        "    else:\n",
        "      if root.right == None:\n",
        "        root.right = Node(value)\n",
        "      else:\n",
        "        self._insert(root.right, value)\n",
        "\n",
        "  def find(self, value):\n",
        "    if not self.root:\n",
        "      return False\n",
        "    else:\n",
        "      return self._find(self.root, value)\n",
        "\n",
        "  def _find(self, root, value):\n",
        "    if root == None:\n",
        "      return False\n",
        "    elif root.data == value:\n",
        "      return True\n",
        "    elif root.data > value:\n",
        "      return self._find(root.left, value)\n",
        "    else:\n",
        "      return self._find(root.right, value)\n",
        "\n",
        "  def inorder(self):\n",
        "    if self.root:\n",
        "      arr = []\n",
        "      self._inorder(self.root, arr)\n",
        "      return arr\n",
        "    else:\n",
        "      print(\"Tree not found\")\n",
        "\n",
        "  def _inorder(self, root, arr):\n",
        "    if root != None:\n",
        "      self._inorder(root.left, arr)\n",
        "      arr.append(root.data)\n",
        "      self._inorder(root.right, arr)\n",
        "    return arr\n",
        "\n",
        "\n",
        "\n",
        "\n"
      ],
      "metadata": {
        "id": "4YtpNSWxY7tO"
      },
      "execution_count": 57,
      "outputs": []
    },
    {
      "cell_type": "code",
      "source": [
        "tree = BST(8)\n",
        "tree.insert(3)\n",
        "tree.insert(5)\n",
        "tree.insert(14)\n",
        "tree.insert(9)\n",
        "tree.insert(25)\n",
        "print(tree.inorder())\n",
        "print(tree.find(5))"
      ],
      "metadata": {
        "colab": {
          "base_uri": "https://localhost:8080/"
        },
        "id": "SybZpjkXm-NP",
        "outputId": "128b3908-78b6-4d4e-ec1a-b9a8081ade55"
      },
      "execution_count": 58,
      "outputs": [
        {
          "output_type": "stream",
          "name": "stdout",
          "text": [
            "[3, 5, 8, 9, 14, 25]\n",
            "True\n"
          ]
        }
      ]
    }
  ]
}