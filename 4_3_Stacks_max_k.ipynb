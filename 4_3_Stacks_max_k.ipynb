{
  "nbformat": 4,
  "nbformat_minor": 0,
  "metadata": {
    "colab": {
      "name": "4-3_Stacks-max-k.ipynb",
      "provenance": [],
      "authorship_tag": "ABX9TyOgSr/n1TvpBLt4PrGOinuG",
      "include_colab_link": true
    },
    "kernelspec": {
      "name": "python3",
      "display_name": "Python 3"
    },
    "language_info": {
      "name": "python"
    }
  },
  "cells": [
    {
      "cell_type": "markdown",
      "metadata": {
        "id": "view-in-github",
        "colab_type": "text"
      },
      "source": [
        "<a href=\"https://colab.research.google.com/github/chuk-yong/Daily-Coding-Problem/blob/main/4_3_Stacks_max_k.ipynb\" target=\"_parent\"><img src=\"https://colab.research.google.com/assets/colab-badge.svg\" alt=\"Open In Colab\"/></a>"
      ]
    },
    {
      "cell_type": "markdown",
      "source": [
        "## Compute maximum of k-length subarrays\n",
        "Given an array of integers and a number k, where $1<=k<=len(array)$\n",
        "compute the maximum value of each subarray or length k.\n",
        "\n",
        "> array = (10,5,2,7,8,7) and k = 3\n",
        "\n",
        "return (10,7,8,8) since:\n",
        "* 10 = max(10,5,2)\n",
        "* 7 = max(5,2,7)\n",
        "* 8 = max(2,7,8)\n",
        "* 8 = max(7,8,7)\n",
        "\n",
        "Do it in $O(n)$ time and $O(k)$ space.\n",
        "\n"
      ],
      "metadata": {
        "id": "SdM2GxAyi6y8"
      }
    },
    {
      "cell_type": "code",
      "source": [
        "# Naive approach\n",
        "def max_of_subarray(lst, k):\n",
        "  for i in range(len(lst) - k + 1):\n",
        "    print(max(lst[i:i+k]))\n",
        "\n",
        "# this takes O(nxk) time"
      ],
      "metadata": {
        "id": "2mPSR-fxkMB7"
      },
      "execution_count": null,
      "outputs": []
    },
    {
      "cell_type": "markdown",
      "source": [
        "## Using a dequeue with size k\n",
        "\n",
        "Observe that if we have [1,2,3,4,5] and k = 3\n",
        "\n",
        "After evaluating the first 3 items, we only need to keep 3 since it is the last.  When we slide the window to the next 3, we only need to compare '3' to the next number.  We don't have to keep the first 2.\n",
        "\n",
        "If we have [5,4,3,2,1]\n",
        "\n",
        "After evaluating the first 3, we have to keep the list in order... [5,4,3].  This is because, when we go to the next number, we have to compare it to [4,3]. ([5] would have been pop and printed.)\n",
        "\n",
        "After getting our first window.  We will loop through k till the end.  In every loop, first we pop the first number (the left most), print it as it is the largest. \n",
        "\n"
      ],
      "metadata": {
        "id": "3B_u-X4gk1ug"
      }
    },
    {
      "cell_type": "code",
      "source": [
        "from collections import deque\n",
        "\n",
        "def max_subarray(lst, k):\n",
        "  q = deque() # q keeps the positions of element in the list\n",
        "  for i in range(k): # process the first 3 items\n",
        "    while q and lst[i] >= lst[q[-1]]: # if q is not empty and the next item is bigger than the lst one in q\n",
        "      q.pop() # remove it as we have the latest and bigger one\n",
        "    q.append(i)\n",
        "  for i in range(k, len(lst)): # now loop from k till the end\n",
        "    print(lst[q[0]]) # print from left most of the list.  It contains the largest number\n",
        "    while q and q[0] <= i-k: # q[0] <= i-k checks if the position of current item is 3 away.  That means we have 3 items in the list, need to pop off the oldest one\n",
        "      q.popleft() # alternatively, i-q[0] >= k, that means there are 3 or more items in q. Why >?? there should only be 3\n",
        "    while q and lst[i] >= lst[q[-1]]:\n",
        "      q.pop()\n",
        "    q.append(i)\n",
        "  print(lst[q[0]])\n"
      ],
      "metadata": {
        "id": "sN_p2hN6_Q-I"
      },
      "execution_count": 7,
      "outputs": []
    },
    {
      "cell_type": "code",
      "source": [
        "lst = [10,5,2,7,8,7,9,1,6,5,8,2,9,4]\n",
        "k = 3\n",
        "max_subarray(lst, k)"
      ],
      "metadata": {
        "colab": {
          "base_uri": "https://localhost:8080/"
        },
        "id": "flY0bMA_DVb0",
        "outputId": "50511ce2-c786-4e02-8e03-7bab677806a8"
      },
      "execution_count": 11,
      "outputs": [
        {
          "output_type": "stream",
          "name": "stdout",
          "text": [
            "10\n",
            "7\n",
            "8\n",
            "8\n",
            "9\n",
            "9\n",
            "9\n",
            "6\n",
            "8\n",
            "8\n",
            "9\n",
            "9\n"
          ]
        }
      ]
    }
  ]
}