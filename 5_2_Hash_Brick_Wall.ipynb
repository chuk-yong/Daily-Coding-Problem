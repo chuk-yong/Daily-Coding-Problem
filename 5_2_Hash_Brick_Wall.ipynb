{
  "nbformat": 4,
  "nbformat_minor": 0,
  "metadata": {
    "colab": {
      "name": "5-2_Hash-Brick-Wall.ipynb",
      "provenance": [],
      "authorship_tag": "ABX9TyP9KaaAyG2cWthItlQ6mhYh",
      "include_colab_link": true
    },
    "kernelspec": {
      "name": "python3",
      "display_name": "Python 3"
    },
    "language_info": {
      "name": "python"
    }
  },
  "cells": [
    {
      "cell_type": "markdown",
      "metadata": {
        "id": "view-in-github",
        "colab_type": "text"
      },
      "source": [
        "<a href=\"https://colab.research.google.com/github/chuk-yong/Daily-Coding-Problem/blob/main/5_2_Hash_Brick_Wall.ipynb\" target=\"_parent\"><img src=\"https://colab.research.google.com/assets/colab-badge.svg\" alt=\"Open In Colab\"/></a>"
      ]
    },
    {
      "cell_type": "markdown",
      "source": [
        "## Cut brick wall\n",
        "A wall consists of several rows of bricks of various integer lengths and uniform height.\n",
        "\n",
        "Your goal is to find a vertical line going from top to the bottom of the wall that cuts through the fewest number of bricks. If the line goes through the edge between two bricks, this does not count as a cut.\n",
        "\n",
        "For example: given the lists of list, where values in each row represent the length of bricks in that row:\n",
        "```\n",
        "[[3,5,1,1],\n",
        "[2,3,3,2]\n",
        "[5,5]\n",
        "[4,4,2]\n",
        "[1,3,3,3]\n",
        "[1,1,6,1]]\n",
        "```\n",
        "The wall would look like:\n",
        "\n",
        "![brickwall](brick-wall.jpg)\n",
        "\n",
        "<img src=\"https://drive.google.com/file/d/1QT59P64AnwpxdWGZDwzJMID_VhRZBrzd/view?usp=sharing\">\n",
        "\n",
        "The best we can do is to look at the eight brick.  From here, we only need to cut through 3rd and 5th row. \n",
        "\n",
        "Given an input consist of brick lengths for each row, return the fewest number of bricks to cut to create a vertical wall."
      ],
      "metadata": {
        "id": "pvDl0VDPNEXu"
      }
    },
    {
      "cell_type": "markdown",
      "source": [
        "## Strategy\n",
        "\n",
        "Find the edges with the most lines.\n",
        "\n",
        "In the wall above, the eigth brick/element occurs the most times.  That means we have to cut the least.  \n",
        "\n",
        "So, use a dict to count the number of 'length' of bricks row by row.  \n",
        "\n",
        "For example, on the first row, we should get:\n",
        "```\n",
        "{3:1, 8:1, 9:1}\n",
        "```\n",
        "Meaning there is a vertical line/separation after the 3rd, 8th and 9th brick.\n",
        "\n",
        "We just keep building the dictionary after every row.  The largest number would give us the key representing the position we need to cut."
      ],
      "metadata": {
        "id": "oEUuQ-VXR9mB"
      }
    },
    {
      "cell_type": "code",
      "source": [
        "from collections import defaultdict\n",
        "\n",
        "def fewest_cuts(wall):\n",
        "  answer = defaultdict(int)\n",
        "  for row in wall:\n",
        "    length = 0\n",
        "    for brick in row[:-1]: # do not include the last brick\n",
        "      length += brick\n",
        "      answer[length] +=1\n",
        "  position = max(answer, key = answer.get) # key with the highest value, representing the position \n",
        "  cuts = len(wall) - max(answer.values()) # calculate the number of cuts necessary\n",
        "\n",
        "  return position, cuts"
      ],
      "metadata": {
        "id": "lFJcrTc5TRZZ"
      },
      "execution_count": 8,
      "outputs": []
    },
    {
      "cell_type": "code",
      "source": [
        "wall = [[3,5,1,1],\n",
        "[2,3,3,2],\n",
        "[5,5],\n",
        "[4,4,2],\n",
        "[1,3,3,3],\n",
        "[1,1,6,1]]\n"
      ],
      "metadata": {
        "id": "RLO7YZWDdA-j"
      },
      "execution_count": 9,
      "outputs": []
    },
    {
      "cell_type": "code",
      "source": [
        "pos, c = fewest_cuts(wall)\n",
        "print(\"Fewest cuts = \", c)\n",
        "print(\"Position = \", pos)"
      ],
      "metadata": {
        "colab": {
          "base_uri": "https://localhost:8080/"
        },
        "id": "SXrcNNHVdP_N",
        "outputId": "6a3b85fa-1cb4-45b6-f39b-e77dd5cee98f"
      },
      "execution_count": 11,
      "outputs": [
        {
          "output_type": "stream",
          "name": "stdout",
          "text": [
            "Fewest cuts =  2\n",
            "Position =  8\n"
          ]
        }
      ]
    }
  ]
}
