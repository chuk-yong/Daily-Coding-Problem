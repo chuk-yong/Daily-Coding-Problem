{
  "nbformat": 4,
  "nbformat_minor": 0,
  "metadata": {
    "colab": {
      "name": "4-1_Stacks-Max-Stack.ipynb",
      "provenance": [],
      "authorship_tag": "ABX9TyOhlUsvO9fw/6jpjE6miu2t",
      "include_colab_link": true
    },
    "kernelspec": {
      "name": "python3",
      "display_name": "Python 3"
    },
    "language_info": {
      "name": "python"
    }
  },
  "cells": [
    {
      "cell_type": "markdown",
      "metadata": {
        "id": "view-in-github",
        "colab_type": "text"
      },
      "source": [
        "<a href=\"https://colab.research.google.com/github/chuk-yong/Daily-Coding-Problem/blob/main/4_1_Stacks_Max_Stack.ipynb\" target=\"_parent\"><img src=\"https://colab.research.google.com/assets/colab-badge.svg\" alt=\"Open In Colab\"/></a>"
      ]
    },
    {
      "cell_type": "markdown",
      "source": [
        "## Implement a max stack\n",
        "Implement a stack that has the following methods:\n",
        "* push(val)\n",
        "* pop: return the topmost element, error if empty\n",
        "* max: return the max value, error if empty\n",
        "\n",
        "Each method should run in constant time."
      ],
      "metadata": {
        "id": "2Shn7WRf-Hu5"
      }
    },
    {
      "cell_type": "markdown",
      "source": [
        "**Strategy**\n",
        "For this problem, implement maxlist to hold the current largest value.  This should be done during push().  Note that this would be the same length as the stack.  \n",
        "\n",
        "Example:\n",
        "\n",
        "add to stack | stack | maxlist\n",
        "--- | --- | ---\n",
        "push(1) | [1] | [1]\n",
        "push(2) | [1,2] | [1,2]\n",
        "push(5) | [1,2,5] | [1,2,5]\n",
        "push(4) | [1,2,5,4] | [1,2,5,5]\n",
        "\n",
        "So that when you pop(), the last element of maxlist will always hold the max up to that point in the list.\n",
        "\n",
        "\n"
      ],
      "metadata": {
        "id": "gtrbkSFT_k7F"
      }
    },
    {
      "cell_type": "code",
      "source": [
        "class MaxStack:\n",
        "  def __init__(self):\n",
        "    self.stack = []\n",
        "    self.maxlist = []\n",
        "  \n",
        "  def push(self, val):\n",
        "    self.stack.append(val)\n",
        "    if self.maxlist:\n",
        "      self.maxlist.append(max(val, self.maxlist[-1]))\n",
        "    else:\n",
        "      self.maxlist.append(val)\n",
        "  \n",
        "  def pop(self):\n",
        "    if self.stack:\n",
        "      self.maxlist.pop()\n",
        "      return self.stack.pop()\n",
        "    else:\n",
        "      print(\"Stack is empty!\")\n",
        "  \n",
        "  def max(self):\n",
        "    return self.maxlist[-1]\n",
        "\n",
        "\n",
        "    "
      ],
      "metadata": {
        "id": "6KY9jTu4-9f8"
      },
      "execution_count": 4,
      "outputs": []
    },
    {
      "cell_type": "code",
      "source": [
        "k = [1,2,5,4,6,3]\n",
        "m = MaxStack()\n",
        "for i in k:\n",
        "  m.push(i)\n",
        "\n",
        "print(m.max())"
      ],
      "metadata": {
        "colab": {
          "base_uri": "https://localhost:8080/"
        },
        "id": "OX6rxBFJF1vy",
        "outputId": "3894dd77-cd38-4235-a42d-cab62eb5ab12"
      },
      "execution_count": 5,
      "outputs": [
        {
          "output_type": "stream",
          "name": "stdout",
          "text": [
            "6\n"
          ]
        }
      ]
    },
    {
      "cell_type": "code",
      "source": [
        "while m:\n",
        "  print(\"Current Value: \",m.pop())\n",
        "  # during the last call to pop, we also pop the value of maxlist. The following will return an error\n",
        "  if m.maxlist:\n",
        "    print(\"Current Max in stack: \",m.max())\n",
        "  else:\n",
        "    print(\"This the end of stack.\")\n"
      ],
      "metadata": {
        "id": "bvsBpEnCHI2M"
      },
      "execution_count": null,
      "outputs": []
    }
  ]
}