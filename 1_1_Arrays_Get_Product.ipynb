{
  "nbformat": 4,
  "nbformat_minor": 0,
  "metadata": {
    "colab": {
      "name": "1-1_Arrays-Get-Product.ipynb",
      "provenance": [],
      "collapsed_sections": [],
      "authorship_tag": "ABX9TyNTN1t7ednlQt9px9C61tzq",
      "include_colab_link": true
    },
    "kernelspec": {
      "name": "python3",
      "display_name": "Python 3"
    },
    "language_info": {
      "name": "python"
    }
  },
  "cells": [
    {
      "cell_type": "markdown",
      "metadata": {
        "id": "view-in-github",
        "colab_type": "text"
      },
      "source": [
        "<a href=\"https://colab.research.google.com/github/chuk-yong/Daily-Coding-Problem/blob/main/1_1_Arrays_Get_Product.ipynb\" target=\"_parent\"><img src=\"https://colab.research.google.com/assets/colab-badge.svg\" alt=\"Open In Colab\"/></a>"
      ]
    },
    {
      "cell_type": "markdown",
      "source": [
        "## Get product of all other elements\n",
        "Given an array [3,2,1] return an array where the element is the product of all elements except itself = [2,3,6]\n",
        "e.g first element would be 2x1 = 2, and second would be 3x1 = 3 and last would be 3x2 =6\n",
        "[1,2,3,4,5,6] --> output [120,60,30,24]"
      ],
      "metadata": {
        "id": "rdO9Q2RASqx_"
      }
    },
    {
      "cell_type": "markdown",
      "source": [
        "Given a list x = [1,2,3,4,5], to find out what is the answer to a position, we have to get the product BEFORE and AFTER the position, and finally multiply the BEFORE and AFTER to get the result.\n",
        "We call the products BEFORE - prefix\n",
        "the products AFTER - postfix\n",
        "The exceptions are the beginning and the end.  We only have to call for postfix or prefix to be executed."
      ],
      "metadata": {
        "id": "Wj-HJwJIUTW3"
      }
    },
    {
      "cell_type": "code",
      "source": [
        "def prefix(position):\n",
        "    # Calculate the products before the position\n",
        "    result = 1\n",
        "    for i in range(position):\n",
        "        result = result * x[i]\n",
        "    return result"
      ],
      "metadata": {
        "id": "Mw7XJE4qSvqb"
      },
      "execution_count": null,
      "outputs": []
    },
    {
      "cell_type": "code",
      "source": [
        "def postfix(position):\n",
        "    # Calculate the products after the position\n",
        "    result = 1\n",
        "    for i in range(position+1,len(x)):\n",
        "        result = result * x[i]\n",
        "    return result"
      ],
      "metadata": {
        "id": "j79_2YJoTGTk"
      },
      "execution_count": null,
      "outputs": []
    },
    {
      "cell_type": "code",
      "source": [
        "x = [1,2,3,4,5]\n",
        "y = [] # for storing the result\n",
        "for i in range(len(x)):\n",
        "    if i == 0:\n",
        "        y.append(postfix(i))\n",
        "    elif i == len(x)-1:\n",
        "        y.append(prefix(i))\n",
        "    else:\n",
        "        y.append(prefix(i) * postfix(i))\n",
        "        \n",
        "print(\"result is :\", y)"
      ],
      "metadata": {
        "id": "lqaJJEEQTORY"
      },
      "execution_count": null,
      "outputs": []
    },
    {
      "cell_type": "markdown",
      "source": [
        "# Solution from book\n",
        "def products(nums):\n",
        "    # Generate prefix products\n",
        "    prefix_products = []\n",
        "    for num in nums:\n",
        "        if prefix_products:\n",
        "            prefix_products.append(prefix_products[-1]* num)\n",
        "        else:\n",
        "            prefix_products.append(num)\n",
        "    # Generate suffix products\n",
        "    suffix_products = []\n",
        "    for num in reversed(nums):\n",
        "        if suffix_products:\n",
        "            suffix_products.append(suffix_products[-1]*num)\n",
        "        else:\n",
        "            suffix_products.append(suffix_products)\n",
        "    # Generate result from the product of prefixes and suffixes\n",
        "    result = []\n",
        "      for i in range(len(nums)):\n",
        "        for i in range(len(nums)):\n",
        "          if i ==0:\n",
        "            result.append(suffix_products[i+1])\n",
        "          elif i == len(nums) -1:\n",
        "            result.append(prefix_products[i-1])\n",
        "          else:\n",
        "            result.append(prefix_products[i-1] * suffix_(products[i+1])\n",
        "    return result\n",
        "\n",
        "\n",
        "\n",
        "            "
      ],
      "metadata": {
        "id": "Q2J0daVwTQ6I"
      }
    },
    {
      "cell_type": "markdown",
      "source": [
        "## Without using division\n",
        "Going from left, we just need to keep one number, the cumulative product up till i-1. \n",
        "\n",
        "Going to right, we have to keep a list of all the cumulative products running backwards. Example:\n",
        "```\n",
        "[1*2*3*4*5, 2*3*4*5, 3*4*5, 4*5, 5]\n",
        "```\n",
        "Using a deque so that we can efficiently add to the left of the list.  Looping in reverse, starting the list with 1, we would end up with:\n",
        "```\n",
        "[1*2*3*4*5, 2*3*4*5, 3*4*5, 4*5, 5, 1]\n",
        "```\n",
        "Which would turn out to be alright because when we are in the ith position, we want the number in the ith+1 position.\n",
        "\n",
        "In our implementation, we use popleft().  So the very first element in the queue will not be used as it is the product of the entire array.  Likewise, when we are at the end of the array, the right side has no number so essentially we are multiplying by 1.\n",
        "\n",
        "\n",
        "\n",
        "\n"
      ],
      "metadata": {
        "id": "w0_mKXaDk8Bd"
      }
    },
    {
      "cell_type": "code",
      "source": [
        "## without division\n",
        "from collections import deque\n",
        "def prod_wo_div(x):\n",
        "  right = deque()\n",
        "  right.append(1)\n",
        "  for i in reversed(x): # create a list of product starting from the right of the array\n",
        "    temp = right[0]*i\n",
        "    right.appendleft(temp)\n",
        "    \n",
        "  left = 1\n",
        "  answer = []\n",
        "  right.popleft() # we dont need the first element as it is the product of the entire array\n",
        "  for i in x:\n",
        "    temp = left*right.popleft()\n",
        "    answer.append(temp)\n",
        "    left = left*i\n",
        "\n",
        "  return answer"
      ],
      "metadata": {
        "id": "Zbu4O6kCllk4"
      },
      "execution_count": 15,
      "outputs": []
    },
    {
      "cell_type": "code",
      "source": [
        "x = [1,2,3,4,5]\n",
        "print(prod_wo_div(x))"
      ],
      "metadata": {
        "colab": {
          "base_uri": "https://localhost:8080/"
        },
        "id": "2C0rG4GNnY4n",
        "outputId": "efc74ddf-0a1f-44ad-f636-c4b74131b010"
      },
      "execution_count": 14,
      "outputs": [
        {
          "output_type": "stream",
          "name": "stdout",
          "text": [
            "temp =  5\n",
            "temp =  20\n",
            "temp =  60\n",
            "temp =  120\n",
            "temp =  120\n",
            "[120, 60, 40, 30, 24]\n"
          ]
        }
      ]
    }
  ]
}