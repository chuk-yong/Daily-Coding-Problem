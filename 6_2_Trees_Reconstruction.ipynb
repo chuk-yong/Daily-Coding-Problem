{
  "nbformat": 4,
  "nbformat_minor": 0,
  "metadata": {
    "colab": {
      "name": "6-2_Trees-Reconstruction.ipynb",
      "provenance": [],
      "authorship_tag": "ABX9TyOVv5+w3EmRBZ+77vH9bAs4",
      "include_colab_link": true
    },
    "kernelspec": {
      "name": "python3",
      "display_name": "Python 3"
    },
    "language_info": {
      "name": "python"
    }
  },
  "cells": [
    {
      "cell_type": "markdown",
      "metadata": {
        "id": "view-in-github",
        "colab_type": "text"
      },
      "source": [
        "<a href=\"https://colab.research.google.com/github/chuk-yong/Daily-Coding-Problem/blob/main/6_2_Trees_Reconstruction.ipynb\" target=\"_parent\"><img src=\"https://colab.research.google.com/assets/colab-badge.svg\" alt=\"Open In Colab\"/></a>"
      ]
    },
    {
      "cell_type": "markdown",
      "source": [
        "## Reconstruct tree from pre-oder and in-order traversals\n",
        "\n",
        "Given pre-order and in-order traversals of a binary tree, write a function to reconstruct the tree.\n",
        "\n",
        "For example give:\n",
        "```\n",
        "pre-order: [a, b, d, e, c, f, g]\n",
        "in-order: [d, b, e, a, f, c, g]\n",
        "```\n",
        "You should return:\n",
        "\n",
        "                    a\n",
        "                  /.  \\\n",
        "                b.      c\n",
        "              /. \\    /   \\\n",
        "            d.    e.  f.   g\n",
        "\n"
      ],
      "metadata": {
        "id": "p2fobsqBGoOc"
      }
    },
    {
      "cell_type": "markdown",
      "source": [
        "## Strategy\n",
        "\n",
        "pre-order: root-left-right. The return will be in the form of:\n",
        "\n",
        "r|left|right\n",
        "---|---|---\n",
        "a|b d e|c f g\n",
        "\n",
        "in-order: left-root-right. The return will be:\n",
        "\n",
        "left|r|right\n",
        "---|---|---\n",
        "d b e|a|f c g\n",
        "\n",
        "> root = 1st item in pre-oder.\n",
        "\n",
        "After finding the root, next we use the in-order list to find out what are the nodes to the left or right of the root.\n",
        "\n",
        "Keep recurring...\n",
        "\n",
        "* 1st call \n",
        "\n",
        "root = a\n",
        "index of a in-order is 3\n",
        "left node => pre-order[1:index+1] is the left tree -> pre-order = [b, d, e], in-order[0:index] = [d, b, e]\n",
        "\n",
        "right node => pre-order[index+1:] is the right tree -> [c, f, g], in-order[index+1:] = [f, c, g]\n",
        "\n",
        "* 2nd call recontruct with left node:\n",
        "\n",
        "r|left|right\n",
        "---|---|---\n",
        "b|d|e\n",
        "\n",
        "left|r|right\n",
        "---|---|---\n",
        "d|b| e\n",
        "\n",
        "root = b\n",
        "\n",
        "index of b in-oder is 1\n",
        "\n",
        "left node => pre-oder[1:index+1] is the left tree --> pre-oder =[d], in-order[0:index] = [d]\n",
        "\n",
        "\n",
        "right node => pre-oder[1+index:] = [e], in-order[index+1:] = [e]\n",
        "\n",
        "* 2nd call reconstruct with right node:\n",
        " see example above\n",
        "\n",
        "* 3rd call reconstruct left node with ([d], [d])\n",
        "\n",
        "r = d\n",
        "index = 0\n",
        "left node => pre-order[1:index+1] = \"\", in-order[0,0] = \"\"\n",
        "right node => pre-order[1+index:] = \"\", in-order[1:] =\"\"\n",
        "\n",
        "> both calls return None.  So this is leave node with value = d"
      ],
      "metadata": {
        "id": "Osm6sGUBHeEJ"
      }
    },
    {
      "cell_type": "code",
      "source": [
        "## reconstruct tree\n",
        "def reconstruct(pre_order, in_order):\n",
        "  if not pre_order and not in_order:\n",
        "    return None\n",
        "  if len(pre_order) == len(in_order) == 1:\n",
        "    return pre_order[0]\n",
        "  root = pre_order[0]\n",
        "  root_index = in_order.index(root)\n",
        "\n",
        "  root.left = reconstruct(pre_order[1: root_index + 1], in_order[0:root_index])\n",
        "  root.right = reconstruct(pre_order[root_index +1:], in_order[root_index +1:])\n",
        "\n",
        "  return root\n"
      ],
      "metadata": {
        "id": "VG95H03HwtVA"
      },
      "execution_count": null,
      "outputs": []
    }
  ]
}