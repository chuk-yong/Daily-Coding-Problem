{
  "nbformat": 4,
  "nbformat_minor": 0,
  "metadata": {
    "colab": {
      "name": "Linked-List.ipynb",
      "provenance": [],
      "authorship_tag": "ABX9TyN/sfgewx4tCOFtQedb/T8u",
      "include_colab_link": true
    },
    "kernelspec": {
      "name": "python3",
      "display_name": "Python 3"
    },
    "language_info": {
      "name": "python"
    }
  },
  "cells": [
    {
      "cell_type": "markdown",
      "metadata": {
        "id": "view-in-github",
        "colab_type": "text"
      },
      "source": [
        "<a href=\"https://colab.research.google.com/github/chuk-yong/Daily-Coding-Problem/blob/main/Linked_List.ipynb\" target=\"_parent\"><img src=\"https://colab.research.google.com/assets/colab-badge.svg\" alt=\"Open In Colab\"/></a>"
      ]
    },
    {
      "cell_type": "markdown",
      "source": [
        "## Exploring linked list\n",
        "https://stackabuse.com/linked-lists-in-detail-with-python-examples-single-linked-lists/"
      ],
      "metadata": {
        "id": "FVXB01EJPiMg"
      }
    },
    {
      "cell_type": "code",
      "source": [
        "## Create linked list\n",
        "\n",
        "# This defines the node within the linked list\n",
        "class Node:\n",
        "  def __init__(self, data, next=None):\n",
        "    self.data = data\n",
        "    self.next = next\n"
      ],
      "metadata": {
        "id": "TjGplAoNPlVB"
      },
      "execution_count": null,
      "outputs": []
    },
    {
      "cell_type": "code",
      "source": [
        "n1 = Node(1)\n",
        "n2 = Node(2)\n",
        "n3 = Node(3)"
      ],
      "metadata": {
        "id": "0mqnuN19UozF"
      },
      "execution_count": null,
      "outputs": []
    },
    {
      "cell_type": "code",
      "source": [
        "print(n1.data, n2.data, n3.data)"
      ],
      "metadata": {
        "colab": {
          "base_uri": "https://localhost:8080/"
        },
        "id": "LzmXQSBmV-gc",
        "outputId": "8de24fda-9880-403a-b79e-a902e3c34348"
      },
      "execution_count": null,
      "outputs": [
        {
          "output_type": "stream",
          "name": "stdout",
          "text": [
            "1 2 3\n"
          ]
        }
      ]
    },
    {
      "cell_type": "code",
      "source": [
        "# linked them together\n",
        "n1.next = n2\n",
        "n2.next = n3\n",
        "print(n1.next, n2.next) #shows the location of the next node"
      ],
      "metadata": {
        "colab": {
          "base_uri": "https://localhost:8080/"
        },
        "id": "YKnX_vmnWMx8",
        "outputId": "fb473f45-ca67-4737-b374-c0121c405f34"
      },
      "execution_count": null,
      "outputs": [
        {
          "output_type": "stream",
          "name": "stdout",
          "text": [
            "<__main__.Node object at 0x7f6fe99ad450> <__main__.Node object at 0x7f6fe99ad090>\n"
          ]
        }
      ]
    },
    {
      "cell_type": "markdown",
      "source": [
        "So far so good.  We know how to create the nodes.  How do we traverve the nodes?  Given a head node, how to insert/delete nodes and get their values?"
      ],
      "metadata": {
        "id": "hf-4ZDwCW4ax"
      }
    },
    {
      "cell_type": "code",
      "source": [
        "# traversing the linked list\n",
        "temp = n1\n",
        "while temp:\n",
        "  print(temp.data)\n",
        "  temp = temp.next\n"
      ],
      "metadata": {
        "colab": {
          "base_uri": "https://localhost:8080/"
        },
        "id": "jLfHr6S-b5lK",
        "outputId": "ae9fcce1-65db-42b0-c345-b57147af4ded"
      },
      "execution_count": null,
      "outputs": [
        {
          "output_type": "stream",
          "name": "stdout",
          "text": [
            "1\n",
            "2\n",
            "3\n"
          ]
        }
      ]
    },
    {
      "cell_type": "markdown",
      "source": [
        "## Creating the linked list\n",
        "\n",
        "We have created a class called Node.  It is used for creating a node.  Now we have to create a class called linked list and use it to create/add/delete and do things on our list"
      ],
      "metadata": {
        "id": "q0zBOiaxc7e2"
      }
    },
    {
      "cell_type": "code",
      "source": [
        "class Node:\n",
        "  def __init__(self, data, next=None):\n",
        "    self.data = data\n",
        "    self.next = next\n",
        "\n",
        "# LinkedList\n",
        "class LinkedList:\n",
        "  def __init__(self):\n",
        "    self.head = None # initialised the list with a header node\n",
        "  def add_node(self,data): # remember to include self in the argument\n",
        "    new = Node(data) # create the node\n",
        "    new.next = self.head # swap the pointers\n",
        "    self.head = new\n",
        "  def show_node(self):\n",
        "    temp = self.head # set position to the first item\n",
        "    while temp: # loop till None is encountered\n",
        "      print(temp.data)\n",
        "      temp = temp.next\n",
        "  def add_end(self, data):\n",
        "    new = Node(data)\n",
        "    temp = self.head\n",
        "    while temp.next:\n",
        "      temp = temp.next\n",
        "    temp.next = new\n",
        "  def show_count(self):\n",
        "    counter = 0\n",
        "    temp = self.head\n",
        "    while temp:\n",
        "      counter +=1\n",
        "      temp = temp.next\n",
        "    print(\"There are\",counter,\"items in the list\")\n",
        "  def reversed(self):\n",
        "    prev, curr = None, self.head # set the prev and current items\n",
        "    while curr:\n",
        "      temp = curr.next # get the next item\n",
        "      curr.next = prev # reverse the counter, pointing to the previous item\n",
        "      prev = curr # replace the previous with current\n",
        "      curr = temp # replace the current with the next item. Ready for the next iteration\n",
        "    self.head = prev # set the new header\n",
        "\n",
        "\n"
      ],
      "metadata": {
        "id": "tuSk9hl5d-uI"
      },
      "execution_count": 28,
      "outputs": []
    },
    {
      "cell_type": "code",
      "source": [
        "Linked1 = LinkedList()\n",
        "Linked1.add_node(10)\n",
        "Linked1.add_node(20)\n",
        "Linked1.add_node(30)\n",
        "Linked1.add_end(40)\n"
      ],
      "metadata": {
        "id": "F-i_r_BZhyrg"
      },
      "execution_count": 29,
      "outputs": []
    },
    {
      "cell_type": "code",
      "source": [
        "Linked1.show_count()\n",
        "Linked1.show_node()"
      ],
      "metadata": {
        "colab": {
          "base_uri": "https://localhost:8080/"
        },
        "id": "hKaJGEeSonZW",
        "outputId": "51ea2167-3c55-400d-eb56-c170f739a43f"
      },
      "execution_count": 30,
      "outputs": [
        {
          "output_type": "stream",
          "name": "stdout",
          "text": [
            "There are 4 items in the list\n",
            "30\n",
            "20\n",
            "10\n",
            "40\n"
          ]
        }
      ]
    },
    {
      "cell_type": "markdown",
      "source": [
        "## Reversing a linked list\n",
        "\n",
        "| None | None.A | A.B | B.C | C.D | D.None|\n",
        "\n",
        "Assign prev, curr, next as variables\n",
        "\n",
        "Starting with A\n",
        "prev=None, curr = None.A, temp = A.B\n",
        "Set curr to point to prev => curr.next = prev\n",
        "prev=None.A curr = None.A, temp = A.B\n",
        "\n",
        "We now reverse the pointer for current item:\n",
        "Set current to point to prev.\n",
        "curr.next - prev\n",
        "prev=None.A, curr = A.None, temp = A.B\n",
        "\n",
        "prev to current and current to temp\n",
        "prev = curr, curr = temp\n",
        "prev = A.None, curr = A.B\n",
        "\n",
        "Next loop:\n",
        "prev = A.None, curr = A.B, temp = B.C\n",
        "Doing the same as above, we get\n",
        "pre = B.A, curr = B.C\n",
        "\n",
        "So, every step of the way, we reverse the pointers\n",
        "Now it becomes B.A, A.None.  The next iteration will give us\n",
        "C.B, B.A, A.None.  So going through the list, we would have reversed the entire list."
      ],
      "metadata": {
        "id": "vQBXUzFO-nmN"
      }
    },
    {
      "cell_type": "code",
      "source": [
        "Linked1.reversed()\n",
        "Linked1.show_node()"
      ],
      "metadata": {
        "colab": {
          "base_uri": "https://localhost:8080/"
        },
        "id": "MJHlOudLGL_K",
        "outputId": "0cbe886e-53e4-485a-8b33-3abe49c30407"
      },
      "execution_count": 31,
      "outputs": [
        {
          "output_type": "stream",
          "name": "stdout",
          "text": [
            "40\n",
            "10\n",
            "20\n",
            "30\n"
          ]
        }
      ]
    }
  ]
}