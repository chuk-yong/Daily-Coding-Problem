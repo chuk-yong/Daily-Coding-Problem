{
  "cells": [
    {
      "cell_type": "markdown",
      "metadata": {
        "id": "view-in-github",
        "colab_type": "text"
      },
      "source": [
        "<a href=\"https://colab.research.google.com/github/chuk-yong/Daily-Coding-Problem/blob/main/Linked_List.ipynb\" target=\"_parent\"><img src=\"https://colab.research.google.com/assets/colab-badge.svg\" alt=\"Open In Colab\"/></a>"
      ]
    },
    {
      "cell_type": "markdown",
      "metadata": {
        "id": "FVXB01EJPiMg"
      },
      "source": [
        "## Exploring linked list\n",
        "https://stackabuse.com/linked-lists-in-detail-with-python-examples-single-linked-lists/"
      ]
    },
    {
      "cell_type": "code",
      "execution_count": null,
      "metadata": {
        "id": "TjGplAoNPlVB"
      },
      "outputs": [],
      "source": [
        "## Create linked list\n",
        "\n",
        "# This defines the node within the linked list\n",
        "class Node:\n",
        "  def __init__(self, data, next=None):\n",
        "    self.data = data\n",
        "    self.next = next\n"
      ]
    },
    {
      "cell_type": "code",
      "execution_count": null,
      "metadata": {
        "id": "0mqnuN19UozF"
      },
      "outputs": [],
      "source": [
        "n1 = Node(1)\n",
        "n2 = Node(2)\n",
        "n3 = Node(3)"
      ]
    },
    {
      "cell_type": "code",
      "execution_count": null,
      "metadata": {
        "colab": {
          "base_uri": "https://localhost:8080/"
        },
        "id": "LzmXQSBmV-gc",
        "outputId": "8de24fda-9880-403a-b79e-a902e3c34348"
      },
      "outputs": [
        {
          "name": "stdout",
          "output_type": "stream",
          "text": [
            "1 2 3\n"
          ]
        }
      ],
      "source": [
        "print(n1.data, n2.data, n3.data)"
      ]
    },
    {
      "cell_type": "code",
      "execution_count": null,
      "metadata": {
        "colab": {
          "base_uri": "https://localhost:8080/"
        },
        "id": "YKnX_vmnWMx8",
        "outputId": "fb473f45-ca67-4737-b374-c0121c405f34"
      },
      "outputs": [
        {
          "name": "stdout",
          "output_type": "stream",
          "text": [
            "<__main__.Node object at 0x7f6fe99ad450> <__main__.Node object at 0x7f6fe99ad090>\n"
          ]
        }
      ],
      "source": [
        "# linked them together\n",
        "n1.next = n2\n",
        "n2.next = n3\n",
        "print(n1.next, n2.next) #shows the location of the next node"
      ]
    },
    {
      "cell_type": "markdown",
      "metadata": {
        "id": "hf-4ZDwCW4ax"
      },
      "source": [
        "So far so good.  We know how to create the nodes.  How do we traverve the nodes?  Given a head node, how to insert/delete nodes and get their values?"
      ]
    },
    {
      "cell_type": "code",
      "execution_count": null,
      "metadata": {
        "colab": {
          "base_uri": "https://localhost:8080/"
        },
        "id": "jLfHr6S-b5lK",
        "outputId": "ae9fcce1-65db-42b0-c345-b57147af4ded"
      },
      "outputs": [
        {
          "name": "stdout",
          "output_type": "stream",
          "text": [
            "1\n",
            "2\n",
            "3\n"
          ]
        }
      ],
      "source": [
        "# traversing the linked list\n",
        "temp = n1\n",
        "while temp:\n",
        "  print(temp.data)\n",
        "  temp = temp.next\n"
      ]
    },
    {
      "cell_type": "markdown",
      "metadata": {
        "id": "q0zBOiaxc7e2"
      },
      "source": [
        "## Creating the linked list\n",
        "\n",
        "We have created a class called Node.  It is used for creating a node.  Now we have to create a class called linked list and use it to create/add/delete and do things on our list"
      ]
    },
    {
      "cell_type": "code",
      "execution_count": 9,
      "metadata": {
        "id": "tuSk9hl5d-uI"
      },
      "outputs": [],
      "source": [
        "class Node:\n",
        "  def __init__(self, data, next=None):\n",
        "    self.data = data\n",
        "    self.next = next\n",
        "\n",
        "# LinkedList\n",
        "class LinkedList:\n",
        "  def __init__(self):\n",
        "    self.head = None # initialised the list with a header node\n",
        "  def add_node(self,data): # remember to include self in the argument\n",
        "    new = Node(data) # create the node\n",
        "    new.next = self.head # swap the pointers\n",
        "    self.head = new\n",
        "  def show_node(self):\n",
        "    temp = self.head # set position to the first item\n",
        "    while temp: # loop till None is encountered\n",
        "      print(temp.data)\n",
        "      temp = temp.next\n",
        "  def add_end(self, data):\n",
        "    new = Node(data)\n",
        "    temp = self.head\n",
        "    while temp.next:\n",
        "      temp = temp.next\n",
        "    temp.next = new\n",
        "  def show_count(self):\n",
        "    counter = 0\n",
        "    temp = self.head\n",
        "    while temp:\n",
        "      counter +=1\n",
        "      temp = temp.next\n",
        "    print(\"There are\",counter,\"items in the list\")\n",
        "  def reversed(self):\n",
        "    prev, curr = None, self.head # set the prev and current items\n",
        "    while curr:\n",
        "      temp = curr.next # get the next item\n",
        "      curr.next = prev # reverse the counter, pointing to the previous item\n",
        "      prev = curr # replace the previous with current\n",
        "      curr = temp # replace the current with the next item. Ready for the next iteration\n",
        "    self.head = prev\n",
        "\n",
        "\n"
      ]
    },
    {
      "cell_type": "code",
      "execution_count": 10,
      "metadata": {
        "id": "F-i_r_BZhyrg"
      },
      "outputs": [],
      "source": [
        "Linked1 = LinkedList()\n",
        "Linked1.add_node(10)\n",
        "Linked1.add_node(20)\n",
        "Linked1.add_node(30)\n",
        "Linked1.add_end(40)\n"
      ]
    },
    {
      "cell_type": "code",
      "execution_count": 11,
      "metadata": {
        "colab": {
          "base_uri": "https://localhost:8080/"
        },
        "id": "hKaJGEeSonZW",
        "outputId": "c6052989-1e5f-4471-9f48-434d3362df01"
      },
      "outputs": [
        {
          "output_type": "stream",
          "name": "stdout",
          "text": [
            "There are 4 items in the list\n",
            "30\n",
            "20\n",
            "10\n",
            "40\n"
          ]
        }
      ],
      "source": [
        "Linked1.show_count()\n",
        "Linked1.show_node()"
      ]
    },
    {
      "cell_type": "markdown",
      "metadata": {
        "id": "vQBXUzFO-nmN"
      },
      "source": [
        "## Reversing a linked list\n",
        "\n",
        "None | A | B | C\n",
        "-----|----|---|---\n",
        "\n",
        "\n",
        "Assign prev, curr, next as variables\n",
        "\n",
        "prev| curr | temp\n",
        "---|---|---\n",
        "None|A->B|B\n",
        "\n",
        "Starting with A\n",
        "prev=None, curr = None.A, temp = A.B\n",
        "Set curr to point to prev => curr.next = prev\n",
        "prev=None.A curr = None.A, temp = A.B\n",
        "\n",
        "We now reverse the pointer for current item:\n",
        "Set current to point to prev.\n",
        "curr.next - prev\n",
        "prev=None.A, curr = A.None, temp = A.B\n",
        "\n",
        "prev | curr\n",
        "---|--- \n",
        "A->None | B\n",
        "\n",
        "prev to current and current to temp\n",
        "prev = curr, curr = temp\n",
        "prev = A.None, curr = A.B\n",
        "\n",
        "Next loop:\n",
        "prev = A.None, curr = A.B, temp = B.C\n",
        "Doing the same as above, we get\n",
        "pre = B.A, curr = B.C\n",
        "\n",
        "prev | curr\n",
        "---|---\n",
        "B->A|C\n",
        "\n",
        "So, every step of the way, we reverse the pointers\n",
        "Now it becomes B.A, A.None.  The next iteration will give us\n",
        "C.B, B.A, A.None.  So going through the list, we would have reversed the entire list."
      ]
    },
    {
      "cell_type": "code",
      "execution_count": 12,
      "metadata": {
        "colab": {
          "base_uri": "https://localhost:8080/"
        },
        "id": "MJHlOudLGL_K",
        "outputId": "009da609-97fc-4351-acdf-9cdb8ba5b25c"
      },
      "outputs": [
        {
          "output_type": "stream",
          "name": "stdout",
          "text": [
            "40\n",
            "10\n",
            "20\n",
            "30\n"
          ]
        }
      ],
      "source": [
        "Linked1.reversed()\n",
        "Linked1.show_node()"
      ]
    }
  ],
  "metadata": {
    "colab": {
      "name": "Linked-List.ipynb",
      "provenance": [],
      "authorship_tag": "ABX9TyNgE8f9ae5M0Z+1ko+onxmU",
      "include_colab_link": true
    },
    "kernelspec": {
      "display_name": "Python 3",
      "name": "python3"
    },
    "language_info": {
      "name": "python"
    }
  },
  "nbformat": 4,
  "nbformat_minor": 0
}